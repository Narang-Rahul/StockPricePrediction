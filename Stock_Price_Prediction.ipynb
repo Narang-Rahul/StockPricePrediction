{
  "nbformat": 4,
  "nbformat_minor": 0,
  "metadata": {
    "colab": {
      "name": "Stock Price Prediction.ipynb",
      "provenance": []
    },
    "kernelspec": {
      "name": "python3",
      "display_name": "Python 3"
    },
    "language_info": {
      "name": "python"
    }
  },
  "cells": [
    {
      "cell_type": "markdown",
      "metadata": {
        "id": "VRSe6GXwnOsN"
      },
      "source": [
        "**Author: Rahul Narang**\n",
        "\n",
        "Stock Market Prediction Using Numarical and Textual Analysis\n",
        "\n",
        "Here, I have made a hybrid model for stock price/performance prediction using numerical analysis of historical stock prices, and sentimental analysis of news headlines."
      ]
    },
    {
      "cell_type": "code",
      "metadata": {
        "colab": {
          "base_uri": "https://localhost:8080/"
        },
        "id": "XIIPHOUaB5jw",
        "outputId": "d5261935-6939-4731-a54d-dc3e2ad95f37"
      },
      "source": [
        "from google.colab import drive\n",
        "drive.mount('/content/drive') "
      ],
      "execution_count": null,
      "outputs": [
        {
          "output_type": "stream",
          "text": [
            "Drive already mounted at /content/drive; to attempt to forcibly remount, call drive.mount(\"/content/drive\", force_remount=True).\n"
          ],
          "name": "stdout"
        }
      ]
    },
    {
      "cell_type": "code",
      "metadata": {
        "colab": {
          "base_uri": "https://localhost:8080/"
        },
        "id": "FWUtfc4FB5rY",
        "outputId": "78241d15-7724-4705-87a3-ee8c271b129a"
      },
      "source": [
        "import os\n",
        "import re\n",
        "import inflect\n",
        "from collections import OrderedDict\n",
        "os.chdir(\"/content/drive/My Drive/grip\")\n",
        "!ls"
      ],
      "execution_count": null,
      "outputs": [
        {
          "output_type": "stream",
          "text": [
            "BSME.csv  india-news-headlines.csv\n"
          ],
          "name": "stdout"
        }
      ]
    },
    {
      "cell_type": "code",
      "metadata": {
        "id": "LrZz3YgwA0kO"
      },
      "source": [
        "import pandas as pd\n",
        "import matplotlib.pyplot as plt\n",
        "import numpy as np\n",
        "import math\n",
        "from sklearn.model_selection import train_test_split\n",
        "from matplotlib import pyplot as plt\n",
        "from sklearn.preprocessing import MinMaxScaler\n",
        "from sklearn.metrics import mean_squared_error,mean_absolute_error\n",
        "from sklearn import metrics \n",
        "from keras.models import Sequential\n",
        "from keras.layers import Dense, LSTM\n",
        "from sklearn.ensemble import RandomForestRegressor\n",
        "from sklearn.linear_model import LinearRegression"
      ],
      "execution_count": 275,
      "outputs": []
    },
    {
      "cell_type": "code",
      "metadata": {
        "id": "KnxY2E1KOZeN"
      },
      "source": [
        "import nltk\n",
        "from textblob import TextBlob\n",
        "from nltk.sentiment.vader import SentimentIntensityAnalyzer\n",
        "import warnings\n",
        "warnings.filterwarnings('ignore')\n",
        "nltk.download('vader_lexicon')"
      ],
      "execution_count": null,
      "outputs": []
    },
    {
      "cell_type": "code",
      "metadata": {
        "colab": {
          "base_uri": "https://localhost:8080/",
          "height": 195
        },
        "id": "_DE1oT5oJwXq",
        "outputId": "4091c647-8dae-4107-8d85-874902b66c44"
      },
      "source": [
        "stock_df = pd.read_csv(\"BSME.csv\")\n",
        "stock_df.head()"
      ],
      "execution_count": null,
      "outputs": [
        {
          "output_type": "execute_result",
          "data": {
            "text/html": [
              "<div>\n",
              "<style scoped>\n",
              "    .dataframe tbody tr th:only-of-type {\n",
              "        vertical-align: middle;\n",
              "    }\n",
              "\n",
              "    .dataframe tbody tr th {\n",
              "        vertical-align: top;\n",
              "    }\n",
              "\n",
              "    .dataframe thead th {\n",
              "        text-align: right;\n",
              "    }\n",
              "</style>\n",
              "<table border=\"1\" class=\"dataframe\">\n",
              "  <thead>\n",
              "    <tr style=\"text-align: right;\">\n",
              "      <th></th>\n",
              "      <th>Date</th>\n",
              "      <th>Open</th>\n",
              "      <th>High</th>\n",
              "      <th>Low</th>\n",
              "      <th>Close</th>\n",
              "      <th>Adj Close</th>\n",
              "      <th>Volume</th>\n",
              "    </tr>\n",
              "  </thead>\n",
              "  <tbody>\n",
              "    <tr>\n",
              "      <th>0</th>\n",
              "      <td>16-10-2019</td>\n",
              "      <td>38637.05078</td>\n",
              "      <td>38666.37891</td>\n",
              "      <td>38416.67188</td>\n",
              "      <td>38598.98828</td>\n",
              "      <td>38598.98828</td>\n",
              "      <td>27500.0</td>\n",
              "    </tr>\n",
              "    <tr>\n",
              "      <th>1</th>\n",
              "      <td>17-10-2019</td>\n",
              "      <td>38647.44141</td>\n",
              "      <td>39104.69141</td>\n",
              "      <td>38557.42969</td>\n",
              "      <td>39052.05859</td>\n",
              "      <td>39052.05859</td>\n",
              "      <td>47100.0</td>\n",
              "    </tr>\n",
              "    <tr>\n",
              "      <th>2</th>\n",
              "      <td>18-10-2019</td>\n",
              "      <td>39087.82813</td>\n",
              "      <td>39361.05859</td>\n",
              "      <td>38963.60156</td>\n",
              "      <td>39298.37891</td>\n",
              "      <td>39298.37891</td>\n",
              "      <td>42400.0</td>\n",
              "    </tr>\n",
              "    <tr>\n",
              "      <th>3</th>\n",
              "      <td>22-10-2019</td>\n",
              "      <td>39233.39844</td>\n",
              "      <td>39426.46875</td>\n",
              "      <td>38924.85156</td>\n",
              "      <td>38963.83984</td>\n",
              "      <td>38963.83984</td>\n",
              "      <td>54500.0</td>\n",
              "    </tr>\n",
              "    <tr>\n",
              "      <th>4</th>\n",
              "      <td>23-10-2019</td>\n",
              "      <td>39063.83984</td>\n",
              "      <td>39196.67188</td>\n",
              "      <td>38866.07813</td>\n",
              "      <td>39058.82813</td>\n",
              "      <td>39058.82813</td>\n",
              "      <td>41000.0</td>\n",
              "    </tr>\n",
              "  </tbody>\n",
              "</table>\n",
              "</div>"
            ],
            "text/plain": [
              "         Date         Open         High  ...        Close    Adj Close   Volume\n",
              "0  16-10-2019  38637.05078  38666.37891  ...  38598.98828  38598.98828  27500.0\n",
              "1  17-10-2019  38647.44141  39104.69141  ...  39052.05859  39052.05859  47100.0\n",
              "2  18-10-2019  39087.82813  39361.05859  ...  39298.37891  39298.37891  42400.0\n",
              "3  22-10-2019  39233.39844  39426.46875  ...  38963.83984  38963.83984  54500.0\n",
              "4  23-10-2019  39063.83984  39196.67188  ...  39058.82813  39058.82813  41000.0\n",
              "\n",
              "[5 rows x 7 columns]"
            ]
          },
          "metadata": {
            "tags": []
          },
          "execution_count": 40
        }
      ]
    },
    {
      "cell_type": "code",
      "metadata": {
        "colab": {
          "base_uri": "https://localhost:8080/"
        },
        "id": "7U9TJ5TSKBRR",
        "outputId": "7693bd9e-b13c-4ab9-8f4a-e83378a68b46"
      },
      "source": [
        "print(\"First Date \"+stock_df.Date.iloc[0])\n",
        "print(\"Last Date \"+stock_df.Date.iloc[-1])"
      ],
      "execution_count": null,
      "outputs": [
        {
          "output_type": "stream",
          "text": [
            "First Date 16-10-2019\n",
            "Last Date 16-10-2020\n"
          ],
          "name": "stdout"
        }
      ]
    },
    {
      "cell_type": "markdown",
      "metadata": {
        "id": "fqg86CR_nspl"
      },
      "source": [
        "**Working on the News Headline Dataset**"
      ]
    },
    {
      "cell_type": "code",
      "metadata": {
        "id": "FuNrnj13BT2G",
        "colab": {
          "base_uri": "https://localhost:8080/",
          "height": 195
        },
        "outputId": "7afa00a2-f9f9-409e-fb91-3e551686e1dd"
      },
      "source": [
        "news_dataset = pd.read_csv('india-news-headlines.csv')\n",
        "news_dataset.head()"
      ],
      "execution_count": null,
      "outputs": [
        {
          "output_type": "execute_result",
          "data": {
            "text/html": [
              "<div>\n",
              "<style scoped>\n",
              "    .dataframe tbody tr th:only-of-type {\n",
              "        vertical-align: middle;\n",
              "    }\n",
              "\n",
              "    .dataframe tbody tr th {\n",
              "        vertical-align: top;\n",
              "    }\n",
              "\n",
              "    .dataframe thead th {\n",
              "        text-align: right;\n",
              "    }\n",
              "</style>\n",
              "<table border=\"1\" class=\"dataframe\">\n",
              "  <thead>\n",
              "    <tr style=\"text-align: right;\">\n",
              "      <th></th>\n",
              "      <th>publish_date</th>\n",
              "      <th>headline_category</th>\n",
              "      <th>headline_text</th>\n",
              "    </tr>\n",
              "  </thead>\n",
              "  <tbody>\n",
              "    <tr>\n",
              "      <th>0</th>\n",
              "      <td>20010102</td>\n",
              "      <td>unknown</td>\n",
              "      <td>Status quo will not be disturbed at Ayodhya; s...</td>\n",
              "    </tr>\n",
              "    <tr>\n",
              "      <th>1</th>\n",
              "      <td>20010102</td>\n",
              "      <td>unknown</td>\n",
              "      <td>Fissures in Hurriyat over Pak visit</td>\n",
              "    </tr>\n",
              "    <tr>\n",
              "      <th>2</th>\n",
              "      <td>20010102</td>\n",
              "      <td>unknown</td>\n",
              "      <td>America's unwanted heading for India?</td>\n",
              "    </tr>\n",
              "    <tr>\n",
              "      <th>3</th>\n",
              "      <td>20010102</td>\n",
              "      <td>unknown</td>\n",
              "      <td>For bigwigs; it is destination Goa</td>\n",
              "    </tr>\n",
              "    <tr>\n",
              "      <th>4</th>\n",
              "      <td>20010102</td>\n",
              "      <td>unknown</td>\n",
              "      <td>Extra buses to clear tourist traffic</td>\n",
              "    </tr>\n",
              "  </tbody>\n",
              "</table>\n",
              "</div>"
            ],
            "text/plain": [
              "   publish_date  ...                                      headline_text\n",
              "0      20010102  ...  Status quo will not be disturbed at Ayodhya; s...\n",
              "1      20010102  ...                Fissures in Hurriyat over Pak visit\n",
              "2      20010102  ...              America's unwanted heading for India?\n",
              "3      20010102  ...                 For bigwigs; it is destination Goa\n",
              "4      20010102  ...               Extra buses to clear tourist traffic\n",
              "\n",
              "[5 rows x 3 columns]"
            ]
          },
          "metadata": {
            "tags": []
          },
          "execution_count": 87
        }
      ]
    },
    {
      "cell_type": "code",
      "metadata": {
        "colab": {
          "base_uri": "https://localhost:8080/"
        },
        "id": "iuPnWop3DYw2",
        "outputId": "23a9dbcd-82b0-4d25-de49-a925429ac0cd"
      },
      "source": [
        "news_dataset.info()"
      ],
      "execution_count": null,
      "outputs": [
        {
          "output_type": "stream",
          "text": [
            "<class 'pandas.core.frame.DataFrame'>\n",
            "RangeIndex: 3424067 entries, 0 to 3424066\n",
            "Data columns (total 3 columns):\n",
            " #   Column             Dtype \n",
            "---  ------             ----- \n",
            " 0   publish_date       int64 \n",
            " 1   headline_category  object\n",
            " 2   headline_text      object\n",
            "dtypes: int64(1), object(2)\n",
            "memory usage: 78.4+ MB\n"
          ],
          "name": "stdout"
        }
      ]
    },
    {
      "cell_type": "code",
      "metadata": {
        "colab": {
          "base_uri": "https://localhost:8080/",
          "height": 195
        },
        "id": "k5GUsuDCCgVH",
        "outputId": "d3d3cf09-6e5a-4d82-bdb3-e1649a6acee6"
      },
      "source": [
        "news_dataset = news_dataset.drop(['headline_category'],axis=1)\n",
        "news_dataset.head()"
      ],
      "execution_count": null,
      "outputs": [
        {
          "output_type": "execute_result",
          "data": {
            "text/html": [
              "<div>\n",
              "<style scoped>\n",
              "    .dataframe tbody tr th:only-of-type {\n",
              "        vertical-align: middle;\n",
              "    }\n",
              "\n",
              "    .dataframe tbody tr th {\n",
              "        vertical-align: top;\n",
              "    }\n",
              "\n",
              "    .dataframe thead th {\n",
              "        text-align: right;\n",
              "    }\n",
              "</style>\n",
              "<table border=\"1\" class=\"dataframe\">\n",
              "  <thead>\n",
              "    <tr style=\"text-align: right;\">\n",
              "      <th></th>\n",
              "      <th>publish_date</th>\n",
              "      <th>headline_text</th>\n",
              "    </tr>\n",
              "  </thead>\n",
              "  <tbody>\n",
              "    <tr>\n",
              "      <th>0</th>\n",
              "      <td>20010102</td>\n",
              "      <td>Status quo will not be disturbed at Ayodhya; s...</td>\n",
              "    </tr>\n",
              "    <tr>\n",
              "      <th>1</th>\n",
              "      <td>20010102</td>\n",
              "      <td>Fissures in Hurriyat over Pak visit</td>\n",
              "    </tr>\n",
              "    <tr>\n",
              "      <th>2</th>\n",
              "      <td>20010102</td>\n",
              "      <td>America's unwanted heading for India?</td>\n",
              "    </tr>\n",
              "    <tr>\n",
              "      <th>3</th>\n",
              "      <td>20010102</td>\n",
              "      <td>For bigwigs; it is destination Goa</td>\n",
              "    </tr>\n",
              "    <tr>\n",
              "      <th>4</th>\n",
              "      <td>20010102</td>\n",
              "      <td>Extra buses to clear tourist traffic</td>\n",
              "    </tr>\n",
              "  </tbody>\n",
              "</table>\n",
              "</div>"
            ],
            "text/plain": [
              "   publish_date                                      headline_text\n",
              "0      20010102  Status quo will not be disturbed at Ayodhya; s...\n",
              "1      20010102                Fissures in Hurriyat over Pak visit\n",
              "2      20010102              America's unwanted heading for India?\n",
              "3      20010102                 For bigwigs; it is destination Goa\n",
              "4      20010102               Extra buses to clear tourist traffic"
            ]
          },
          "metadata": {
            "tags": []
          },
          "execution_count": 89
        }
      ]
    },
    {
      "cell_type": "code",
      "metadata": {
        "id": "Vh-euFSNDYHw"
      },
      "source": [
        "news_dataset['publish_date'] = pd.to_datetime(news_dataset['publish_date'],format= '%Y%m%d')"
      ],
      "execution_count": null,
      "outputs": []
    },
    {
      "cell_type": "code",
      "metadata": {
        "colab": {
          "base_uri": "https://localhost:8080/",
          "height": 195
        },
        "id": "aO0EIimICsEh",
        "outputId": "5c063bd9-6b70-4565-ae6e-34a8a940e6b5"
      },
      "source": [
        "news_dataset.head()"
      ],
      "execution_count": null,
      "outputs": [
        {
          "output_type": "execute_result",
          "data": {
            "text/html": [
              "<div>\n",
              "<style scoped>\n",
              "    .dataframe tbody tr th:only-of-type {\n",
              "        vertical-align: middle;\n",
              "    }\n",
              "\n",
              "    .dataframe tbody tr th {\n",
              "        vertical-align: top;\n",
              "    }\n",
              "\n",
              "    .dataframe thead th {\n",
              "        text-align: right;\n",
              "    }\n",
              "</style>\n",
              "<table border=\"1\" class=\"dataframe\">\n",
              "  <thead>\n",
              "    <tr style=\"text-align: right;\">\n",
              "      <th></th>\n",
              "      <th>publish_date</th>\n",
              "      <th>headline_text</th>\n",
              "    </tr>\n",
              "  </thead>\n",
              "  <tbody>\n",
              "    <tr>\n",
              "      <th>0</th>\n",
              "      <td>2001-01-02</td>\n",
              "      <td>Status quo will not be disturbed at Ayodhya; s...</td>\n",
              "    </tr>\n",
              "    <tr>\n",
              "      <th>1</th>\n",
              "      <td>2001-01-02</td>\n",
              "      <td>Fissures in Hurriyat over Pak visit</td>\n",
              "    </tr>\n",
              "    <tr>\n",
              "      <th>2</th>\n",
              "      <td>2001-01-02</td>\n",
              "      <td>America's unwanted heading for India?</td>\n",
              "    </tr>\n",
              "    <tr>\n",
              "      <th>3</th>\n",
              "      <td>2001-01-02</td>\n",
              "      <td>For bigwigs; it is destination Goa</td>\n",
              "    </tr>\n",
              "    <tr>\n",
              "      <th>4</th>\n",
              "      <td>2001-01-02</td>\n",
              "      <td>Extra buses to clear tourist traffic</td>\n",
              "    </tr>\n",
              "  </tbody>\n",
              "</table>\n",
              "</div>"
            ],
            "text/plain": [
              "  publish_date                                      headline_text\n",
              "0   2001-01-02  Status quo will not be disturbed at Ayodhya; s...\n",
              "1   2001-01-02                Fissures in Hurriyat over Pak visit\n",
              "2   2001-01-02              America's unwanted heading for India?\n",
              "3   2001-01-02                 For bigwigs; it is destination Goa\n",
              "4   2001-01-02               Extra buses to clear tourist traffic"
            ]
          },
          "metadata": {
            "tags": []
          },
          "execution_count": 91
        }
      ]
    },
    {
      "cell_type": "code",
      "metadata": {
        "colab": {
          "base_uri": "https://localhost:8080/"
        },
        "id": "2hFXoZPrGMvw",
        "outputId": "5e3f75df-8510-4fc5-fab6-ac0b7e47dbed"
      },
      "source": [
        "news_dataset.publish_date[0]"
      ],
      "execution_count": null,
      "outputs": [
        {
          "output_type": "execute_result",
          "data": {
            "text/plain": [
              "Timestamp('2001-01-02 00:00:00')"
            ]
          },
          "metadata": {
            "tags": []
          },
          "execution_count": 92
        }
      ]
    },
    {
      "cell_type": "code",
      "metadata": {
        "colab": {
          "base_uri": "https://localhost:8080/"
        },
        "id": "TQL8yd1AGQTY",
        "outputId": "58e3d549-f0f7-4832-cc1b-e635d5f3c2cb"
      },
      "source": [
        "news_dataset.publish_date.iloc[-1]"
      ],
      "execution_count": null,
      "outputs": [
        {
          "output_type": "execute_result",
          "data": {
            "text/plain": [
              "Timestamp('2020-12-31 00:00:00')"
            ]
          },
          "metadata": {
            "tags": []
          },
          "execution_count": 93
        }
      ]
    },
    {
      "cell_type": "code",
      "metadata": {
        "colab": {
          "base_uri": "https://localhost:8080/",
          "height": 195
        },
        "id": "ixaHmrhUHV6x",
        "outputId": "b0fd1070-e39f-4965-9c0a-e69717559dde"
      },
      "source": [
        "#choosing news headlines b/w 16-10-2019 and 16-10-2020\n",
        "news_df = news_dataset.loc[(news_dataset['publish_date'] > '2019-10-16') & (news_dataset['publish_date'] <= '2020-10-16')]\n",
        "news_df.head()"
      ],
      "execution_count": null,
      "outputs": [
        {
          "output_type": "execute_result",
          "data": {
            "text/html": [
              "<div>\n",
              "<style scoped>\n",
              "    .dataframe tbody tr th:only-of-type {\n",
              "        vertical-align: middle;\n",
              "    }\n",
              "\n",
              "    .dataframe tbody tr th {\n",
              "        vertical-align: top;\n",
              "    }\n",
              "\n",
              "    .dataframe thead th {\n",
              "        text-align: right;\n",
              "    }\n",
              "</style>\n",
              "<table border=\"1\" class=\"dataframe\">\n",
              "  <thead>\n",
              "    <tr style=\"text-align: right;\">\n",
              "      <th></th>\n",
              "      <th>publish_date</th>\n",
              "      <th>headline_text</th>\n",
              "    </tr>\n",
              "  </thead>\n",
              "  <tbody>\n",
              "    <tr>\n",
              "      <th>3203527</th>\n",
              "      <td>2019-10-17</td>\n",
              "      <td>Dayal Padmanabhan dedicates Ranganayaki to Kan...</td>\n",
              "    </tr>\n",
              "    <tr>\n",
              "      <th>3203528</th>\n",
              "      <td>2019-10-17</td>\n",
              "      <td>Mumbai men gear up for Karva Chauth; along wit...</td>\n",
              "    </tr>\n",
              "    <tr>\n",
              "      <th>3203529</th>\n",
              "      <td>2019-10-17</td>\n",
              "      <td>Dayal Padmanabhan dedicates Ranganayaki to Kan...</td>\n",
              "    </tr>\n",
              "    <tr>\n",
              "      <th>3203530</th>\n",
              "      <td>2019-10-17</td>\n",
              "      <td>Srinidhi Shetty: Vikram; AR Rahman and Ajay......</td>\n",
              "    </tr>\n",
              "    <tr>\n",
              "      <th>3203531</th>\n",
              "      <td>2019-10-17</td>\n",
              "      <td>Neha Dhupia: I'm confused whether to fast for ...</td>\n",
              "    </tr>\n",
              "  </tbody>\n",
              "</table>\n",
              "</div>"
            ],
            "text/plain": [
              "        publish_date                                      headline_text\n",
              "3203527   2019-10-17  Dayal Padmanabhan dedicates Ranganayaki to Kan...\n",
              "3203528   2019-10-17  Mumbai men gear up for Karva Chauth; along wit...\n",
              "3203529   2019-10-17  Dayal Padmanabhan dedicates Ranganayaki to Kan...\n",
              "3203530   2019-10-17  Srinidhi Shetty: Vikram; AR Rahman and Ajay......\n",
              "3203531   2019-10-17  Neha Dhupia: I'm confused whether to fast for ..."
            ]
          },
          "metadata": {
            "tags": []
          },
          "execution_count": 160
        }
      ]
    },
    {
      "cell_type": "code",
      "metadata": {
        "colab": {
          "base_uri": "https://localhost:8080/"
        },
        "id": "gf8-w4TDLSgh",
        "outputId": "33d5d509-1da7-4f32-8fb2-1bddae41ba91"
      },
      "source": [
        "news_df.info()"
      ],
      "execution_count": null,
      "outputs": [
        {
          "output_type": "stream",
          "text": [
            "<class 'pandas.core.frame.DataFrame'>\n",
            "Int64Index: 182637 entries, 3203527 to 3386163\n",
            "Data columns (total 2 columns):\n",
            " #   Column         Non-Null Count   Dtype         \n",
            "---  ------         --------------   -----         \n",
            " 0   publish_date   182637 non-null  datetime64[ns]\n",
            " 1   headline_text  182637 non-null  object        \n",
            "dtypes: datetime64[ns](1), object(1)\n",
            "memory usage: 4.2+ MB\n"
          ],
          "name": "stdout"
        }
      ]
    },
    {
      "cell_type": "code",
      "metadata": {
        "colab": {
          "base_uri": "https://localhost:8080/",
          "height": 195
        },
        "id": "jPQM3hQzLPBw",
        "outputId": "9149c678-1052-4f33-9ab9-aeb84c124420"
      },
      "source": [
        "news_df.reset_index(inplace = True, drop = True)\n",
        "news_df.head()"
      ],
      "execution_count": null,
      "outputs": [
        {
          "output_type": "execute_result",
          "data": {
            "text/html": [
              "<div>\n",
              "<style scoped>\n",
              "    .dataframe tbody tr th:only-of-type {\n",
              "        vertical-align: middle;\n",
              "    }\n",
              "\n",
              "    .dataframe tbody tr th {\n",
              "        vertical-align: top;\n",
              "    }\n",
              "\n",
              "    .dataframe thead th {\n",
              "        text-align: right;\n",
              "    }\n",
              "</style>\n",
              "<table border=\"1\" class=\"dataframe\">\n",
              "  <thead>\n",
              "    <tr style=\"text-align: right;\">\n",
              "      <th></th>\n",
              "      <th>publish_date</th>\n",
              "      <th>headline_text</th>\n",
              "    </tr>\n",
              "  </thead>\n",
              "  <tbody>\n",
              "    <tr>\n",
              "      <th>0</th>\n",
              "      <td>2019-10-17</td>\n",
              "      <td>Dayal Padmanabhan dedicates Ranganayaki to Kan...</td>\n",
              "    </tr>\n",
              "    <tr>\n",
              "      <th>1</th>\n",
              "      <td>2019-10-17</td>\n",
              "      <td>Mumbai men gear up for Karva Chauth; along wit...</td>\n",
              "    </tr>\n",
              "    <tr>\n",
              "      <th>2</th>\n",
              "      <td>2019-10-17</td>\n",
              "      <td>Dayal Padmanabhan dedicates Ranganayaki to Kan...</td>\n",
              "    </tr>\n",
              "    <tr>\n",
              "      <th>3</th>\n",
              "      <td>2019-10-17</td>\n",
              "      <td>Srinidhi Shetty: Vikram; AR Rahman and Ajay......</td>\n",
              "    </tr>\n",
              "    <tr>\n",
              "      <th>4</th>\n",
              "      <td>2019-10-17</td>\n",
              "      <td>Neha Dhupia: I'm confused whether to fast for ...</td>\n",
              "    </tr>\n",
              "  </tbody>\n",
              "</table>\n",
              "</div>"
            ],
            "text/plain": [
              "  publish_date                                      headline_text\n",
              "0   2019-10-17  Dayal Padmanabhan dedicates Ranganayaki to Kan...\n",
              "1   2019-10-17  Mumbai men gear up for Karva Chauth; along wit...\n",
              "2   2019-10-17  Dayal Padmanabhan dedicates Ranganayaki to Kan...\n",
              "3   2019-10-17  Srinidhi Shetty: Vikram; AR Rahman and Ajay......\n",
              "4   2019-10-17  Neha Dhupia: I'm confused whether to fast for ..."
            ]
          },
          "metadata": {
            "tags": []
          },
          "execution_count": 162
        }
      ]
    },
    {
      "cell_type": "code",
      "metadata": {
        "id": "Ytt_3lqvFQ9u"
      },
      "source": [
        "news_df['Polarity'] = np.nan\n",
        "news_df['Subjectivity'] = np.nan"
      ],
      "execution_count": null,
      "outputs": []
    },
    {
      "cell_type": "code",
      "metadata": {
        "colab": {
          "base_uri": "https://localhost:8080/"
        },
        "id": "eG7oTvVlFvEK",
        "outputId": "47a4ce71-efe6-4aa0-841f-18a21da933f4"
      },
      "source": [
        "news_df.info()"
      ],
      "execution_count": null,
      "outputs": [
        {
          "output_type": "stream",
          "text": [
            "<class 'pandas.core.frame.DataFrame'>\n",
            "RangeIndex: 182637 entries, 0 to 182636\n",
            "Data columns (total 4 columns):\n",
            " #   Column         Non-Null Count   Dtype         \n",
            "---  ------         --------------   -----         \n",
            " 0   publish_date   182637 non-null  datetime64[ns]\n",
            " 1   headline_text  182637 non-null  object        \n",
            " 2   Polarity       0 non-null       float64       \n",
            " 3   Subjectivity   0 non-null       float64       \n",
            "dtypes: datetime64[ns](1), float64(2), object(1)\n",
            "memory usage: 5.6+ MB\n"
          ],
          "name": "stdout"
        }
      ]
    },
    {
      "cell_type": "code",
      "metadata": {
        "colab": {
          "base_uri": "https://localhost:8080/"
        },
        "id": "zifpIIIzGbUL",
        "outputId": "41aa2cbc-109f-4d98-f68e-fe9d87f07111"
      },
      "source": [
        "for i in range(news_df.shape[0]):\n",
        "  if i==100000:\n",
        "    print('Half Done')\n",
        "  temp = TextBlob(news_df['headline_text'].loc[i]).sentiment\n",
        "  news_df['Subjectivity'].loc[i] = temp.subjectivity\n",
        "  news_df['Polarity'].loc[i] = temp.polarity"
      ],
      "execution_count": null,
      "outputs": [
        {
          "output_type": "stream",
          "text": [
            "Half Done\n"
          ],
          "name": "stdout"
        }
      ]
    },
    {
      "cell_type": "code",
      "metadata": {
        "colab": {
          "base_uri": "https://localhost:8080/",
          "height": 195
        },
        "id": "71m7ce1gaY3y",
        "outputId": "f5f5fb7f-5c9e-4f48-85c8-69514171b906"
      },
      "source": [
        "news_df.head()"
      ],
      "execution_count": null,
      "outputs": [
        {
          "output_type": "execute_result",
          "data": {
            "text/html": [
              "<div>\n",
              "<style scoped>\n",
              "    .dataframe tbody tr th:only-of-type {\n",
              "        vertical-align: middle;\n",
              "    }\n",
              "\n",
              "    .dataframe tbody tr th {\n",
              "        vertical-align: top;\n",
              "    }\n",
              "\n",
              "    .dataframe thead th {\n",
              "        text-align: right;\n",
              "    }\n",
              "</style>\n",
              "<table border=\"1\" class=\"dataframe\">\n",
              "  <thead>\n",
              "    <tr style=\"text-align: right;\">\n",
              "      <th></th>\n",
              "      <th>publish_date</th>\n",
              "      <th>headline_text</th>\n",
              "      <th>Polarity</th>\n",
              "      <th>Subjectivity</th>\n",
              "    </tr>\n",
              "  </thead>\n",
              "  <tbody>\n",
              "    <tr>\n",
              "      <th>0</th>\n",
              "      <td>2019-10-17</td>\n",
              "      <td>Dayal Padmanabhan dedicates Ranganayaki to Kan...</td>\n",
              "      <td>0.000</td>\n",
              "      <td>0.00</td>\n",
              "    </tr>\n",
              "    <tr>\n",
              "      <th>1</th>\n",
              "      <td>2019-10-17</td>\n",
              "      <td>Mumbai men gear up for Karva Chauth; along wit...</td>\n",
              "      <td>0.000</td>\n",
              "      <td>0.00</td>\n",
              "    </tr>\n",
              "    <tr>\n",
              "      <th>2</th>\n",
              "      <td>2019-10-17</td>\n",
              "      <td>Dayal Padmanabhan dedicates Ranganayaki to Kan...</td>\n",
              "      <td>0.000</td>\n",
              "      <td>0.00</td>\n",
              "    </tr>\n",
              "    <tr>\n",
              "      <th>3</th>\n",
              "      <td>2019-10-17</td>\n",
              "      <td>Srinidhi Shetty: Vikram; AR Rahman and Ajay......</td>\n",
              "      <td>0.375</td>\n",
              "      <td>0.75</td>\n",
              "    </tr>\n",
              "    <tr>\n",
              "      <th>4</th>\n",
              "      <td>2019-10-17</td>\n",
              "      <td>Neha Dhupia: I'm confused whether to fast for ...</td>\n",
              "      <td>-0.100</td>\n",
              "      <td>0.65</td>\n",
              "    </tr>\n",
              "  </tbody>\n",
              "</table>\n",
              "</div>"
            ],
            "text/plain": [
              "  publish_date  ... Subjectivity\n",
              "0   2019-10-17  ...         0.00\n",
              "1   2019-10-17  ...         0.00\n",
              "2   2019-10-17  ...         0.00\n",
              "3   2019-10-17  ...         0.75\n",
              "4   2019-10-17  ...         0.65\n",
              "\n",
              "[5 rows x 4 columns]"
            ]
          },
          "metadata": {
            "tags": []
          },
          "execution_count": 166
        }
      ]
    },
    {
      "cell_type": "code",
      "metadata": {
        "id": "13whUrfLZwko"
      },
      "source": [
        "sia = SentimentIntensityAnalyzer()"
      ],
      "execution_count": null,
      "outputs": []
    },
    {
      "cell_type": "code",
      "metadata": {
        "colab": {
          "base_uri": "https://localhost:8080/",
          "height": 402
        },
        "id": "Ct5yt2zHaIB5",
        "outputId": "2438ba28-91ec-48f5-e4a9-98bf5bb9d9db"
      },
      "source": [
        "news_df['Compound'] = [sia.polarity_scores(v)['compound'] for v in news_df['headline_text']]\n",
        "news_df['Negative'] = [sia.polarity_scores(v)['neg'] for v in news_df['headline_text']]\n",
        "news_df['Neutral'] = [sia.polarity_scores(v)['neu'] for v in news_df['headline_text']]\n",
        "news_df['Positive'] = [sia.polarity_scores(v)['pos'] for v in news_df['headline_text']]"
      ],
      "execution_count": null,
      "outputs": [
        {
          "output_type": "execute_result",
          "data": {
            "text/html": [
              "<div>\n",
              "<style scoped>\n",
              "    .dataframe tbody tr th:only-of-type {\n",
              "        vertical-align: middle;\n",
              "    }\n",
              "\n",
              "    .dataframe tbody tr th {\n",
              "        vertical-align: top;\n",
              "    }\n",
              "\n",
              "    .dataframe thead th {\n",
              "        text-align: right;\n",
              "    }\n",
              "</style>\n",
              "<table border=\"1\" class=\"dataframe\">\n",
              "  <thead>\n",
              "    <tr style=\"text-align: right;\">\n",
              "      <th></th>\n",
              "      <th>publish_date</th>\n",
              "      <th>headline_text</th>\n",
              "      <th>Polarity</th>\n",
              "      <th>Subjectivity</th>\n",
              "      <th>Compound</th>\n",
              "      <th>Negative</th>\n",
              "      <th>Neutral</th>\n",
              "      <th>Positive</th>\n",
              "    </tr>\n",
              "  </thead>\n",
              "  <tbody>\n",
              "    <tr>\n",
              "      <th>0</th>\n",
              "      <td>2019-10-17</td>\n",
              "      <td>Dayal Padmanabhan dedicates Ranganayaki to Kan...</td>\n",
              "      <td>0.000000</td>\n",
              "      <td>0.000000</td>\n",
              "      <td>0.0000</td>\n",
              "      <td>0.000</td>\n",
              "      <td>1.000</td>\n",
              "      <td>0.000</td>\n",
              "    </tr>\n",
              "    <tr>\n",
              "      <th>1</th>\n",
              "      <td>2019-10-17</td>\n",
              "      <td>Mumbai men gear up for Karva Chauth; along wit...</td>\n",
              "      <td>0.000000</td>\n",
              "      <td>0.000000</td>\n",
              "      <td>0.0000</td>\n",
              "      <td>0.000</td>\n",
              "      <td>1.000</td>\n",
              "      <td>0.000</td>\n",
              "    </tr>\n",
              "    <tr>\n",
              "      <th>2</th>\n",
              "      <td>2019-10-17</td>\n",
              "      <td>Dayal Padmanabhan dedicates Ranganayaki to Kan...</td>\n",
              "      <td>0.000000</td>\n",
              "      <td>0.000000</td>\n",
              "      <td>0.0000</td>\n",
              "      <td>0.000</td>\n",
              "      <td>1.000</td>\n",
              "      <td>0.000</td>\n",
              "    </tr>\n",
              "    <tr>\n",
              "      <th>3</th>\n",
              "      <td>2019-10-17</td>\n",
              "      <td>Srinidhi Shetty: Vikram; AR Rahman and Ajay......</td>\n",
              "      <td>0.375000</td>\n",
              "      <td>0.750000</td>\n",
              "      <td>0.3400</td>\n",
              "      <td>0.000</td>\n",
              "      <td>0.821</td>\n",
              "      <td>0.179</td>\n",
              "    </tr>\n",
              "    <tr>\n",
              "      <th>4</th>\n",
              "      <td>2019-10-17</td>\n",
              "      <td>Neha Dhupia: I'm confused whether to fast for ...</td>\n",
              "      <td>-0.100000</td>\n",
              "      <td>0.650000</td>\n",
              "      <td>-0.3182</td>\n",
              "      <td>0.173</td>\n",
              "      <td>0.827</td>\n",
              "      <td>0.000</td>\n",
              "    </tr>\n",
              "    <tr>\n",
              "      <th>...</th>\n",
              "      <td>...</td>\n",
              "      <td>...</td>\n",
              "      <td>...</td>\n",
              "      <td>...</td>\n",
              "      <td>...</td>\n",
              "      <td>...</td>\n",
              "      <td>...</td>\n",
              "      <td>...</td>\n",
              "    </tr>\n",
              "    <tr>\n",
              "      <th>182632</th>\n",
              "      <td>2020-10-16</td>\n",
              "      <td>M Sivasankar gets Kerala HC respite in gold case</td>\n",
              "      <td>0.000000</td>\n",
              "      <td>0.000000</td>\n",
              "      <td>0.0000</td>\n",
              "      <td>0.000</td>\n",
              "      <td>1.000</td>\n",
              "      <td>0.000</td>\n",
              "    </tr>\n",
              "    <tr>\n",
              "      <th>182633</th>\n",
              "      <td>2020-10-16</td>\n",
              "      <td>Nagpur: Woman; daughter end life over domestic...</td>\n",
              "      <td>0.000000</td>\n",
              "      <td>0.100000</td>\n",
              "      <td>0.0000</td>\n",
              "      <td>0.000</td>\n",
              "      <td>1.000</td>\n",
              "      <td>0.000</td>\n",
              "    </tr>\n",
              "    <tr>\n",
              "      <th>182634</th>\n",
              "      <td>2020-10-16</td>\n",
              "      <td>Vidarbha reports increase in new Covid cases; ...</td>\n",
              "      <td>0.136364</td>\n",
              "      <td>0.454545</td>\n",
              "      <td>0.3182</td>\n",
              "      <td>0.000</td>\n",
              "      <td>0.777</td>\n",
              "      <td>0.223</td>\n",
              "    </tr>\n",
              "    <tr>\n",
              "      <th>182635</th>\n",
              "      <td>2020-10-16</td>\n",
              "      <td>Bihar elections; Phase I: 319 in poll fray hav...</td>\n",
              "      <td>-0.400000</td>\n",
              "      <td>0.550000</td>\n",
              "      <td>-0.5267</td>\n",
              "      <td>0.254</td>\n",
              "      <td>0.746</td>\n",
              "      <td>0.000</td>\n",
              "    </tr>\n",
              "    <tr>\n",
              "      <th>182636</th>\n",
              "      <td>2020-10-16</td>\n",
              "      <td>Bihar elections: BJP chief JP Nadda takes a sw...</td>\n",
              "      <td>0.000000</td>\n",
              "      <td>0.000000</td>\n",
              "      <td>0.3680</td>\n",
              "      <td>0.000</td>\n",
              "      <td>0.798</td>\n",
              "      <td>0.202</td>\n",
              "    </tr>\n",
              "  </tbody>\n",
              "</table>\n",
              "<p>182637 rows × 8 columns</p>\n",
              "</div>"
            ],
            "text/plain": [
              "       publish_date  ... Positive\n",
              "0        2019-10-17  ...    0.000\n",
              "1        2019-10-17  ...    0.000\n",
              "2        2019-10-17  ...    0.000\n",
              "3        2019-10-17  ...    0.179\n",
              "4        2019-10-17  ...    0.000\n",
              "...             ...  ...      ...\n",
              "182632   2020-10-16  ...    0.000\n",
              "182633   2020-10-16  ...    0.000\n",
              "182634   2020-10-16  ...    0.223\n",
              "182635   2020-10-16  ...    0.000\n",
              "182636   2020-10-16  ...    0.202\n",
              "\n",
              "[182637 rows x 8 columns]"
            ]
          },
          "metadata": {
            "tags": []
          },
          "execution_count": 168
        }
      ]
    },
    {
      "cell_type": "code",
      "metadata": {
        "colab": {
          "base_uri": "https://localhost:8080/",
          "height": 195
        },
        "id": "bqle-ctROjwd",
        "outputId": "ebf8b450-e7ef-4bf7-d04c-b436117cf719"
      },
      "source": [
        "news_df.head()"
      ],
      "execution_count": null,
      "outputs": [
        {
          "output_type": "execute_result",
          "data": {
            "text/html": [
              "<div>\n",
              "<style scoped>\n",
              "    .dataframe tbody tr th:only-of-type {\n",
              "        vertical-align: middle;\n",
              "    }\n",
              "\n",
              "    .dataframe tbody tr th {\n",
              "        vertical-align: top;\n",
              "    }\n",
              "\n",
              "    .dataframe thead th {\n",
              "        text-align: right;\n",
              "    }\n",
              "</style>\n",
              "<table border=\"1\" class=\"dataframe\">\n",
              "  <thead>\n",
              "    <tr style=\"text-align: right;\">\n",
              "      <th></th>\n",
              "      <th>publish_date</th>\n",
              "      <th>headline_text</th>\n",
              "      <th>Polarity</th>\n",
              "      <th>Subjectivity</th>\n",
              "      <th>Compound</th>\n",
              "      <th>Negative</th>\n",
              "      <th>Neutral</th>\n",
              "      <th>Positive</th>\n",
              "    </tr>\n",
              "  </thead>\n",
              "  <tbody>\n",
              "    <tr>\n",
              "      <th>0</th>\n",
              "      <td>2019-10-17</td>\n",
              "      <td>Dayal Padmanabhan dedicates Ranganayaki to Kan...</td>\n",
              "      <td>0.000</td>\n",
              "      <td>0.00</td>\n",
              "      <td>0.0000</td>\n",
              "      <td>0.000</td>\n",
              "      <td>1.000</td>\n",
              "      <td>0.000</td>\n",
              "    </tr>\n",
              "    <tr>\n",
              "      <th>1</th>\n",
              "      <td>2019-10-17</td>\n",
              "      <td>Mumbai men gear up for Karva Chauth; along wit...</td>\n",
              "      <td>0.000</td>\n",
              "      <td>0.00</td>\n",
              "      <td>0.0000</td>\n",
              "      <td>0.000</td>\n",
              "      <td>1.000</td>\n",
              "      <td>0.000</td>\n",
              "    </tr>\n",
              "    <tr>\n",
              "      <th>2</th>\n",
              "      <td>2019-10-17</td>\n",
              "      <td>Dayal Padmanabhan dedicates Ranganayaki to Kan...</td>\n",
              "      <td>0.000</td>\n",
              "      <td>0.00</td>\n",
              "      <td>0.0000</td>\n",
              "      <td>0.000</td>\n",
              "      <td>1.000</td>\n",
              "      <td>0.000</td>\n",
              "    </tr>\n",
              "    <tr>\n",
              "      <th>3</th>\n",
              "      <td>2019-10-17</td>\n",
              "      <td>Srinidhi Shetty: Vikram; AR Rahman and Ajay......</td>\n",
              "      <td>0.375</td>\n",
              "      <td>0.75</td>\n",
              "      <td>0.3400</td>\n",
              "      <td>0.000</td>\n",
              "      <td>0.821</td>\n",
              "      <td>0.179</td>\n",
              "    </tr>\n",
              "    <tr>\n",
              "      <th>4</th>\n",
              "      <td>2019-10-17</td>\n",
              "      <td>Neha Dhupia: I'm confused whether to fast for ...</td>\n",
              "      <td>-0.100</td>\n",
              "      <td>0.65</td>\n",
              "      <td>-0.3182</td>\n",
              "      <td>0.173</td>\n",
              "      <td>0.827</td>\n",
              "      <td>0.000</td>\n",
              "    </tr>\n",
              "  </tbody>\n",
              "</table>\n",
              "</div>"
            ],
            "text/plain": [
              "  publish_date  ... Positive\n",
              "0   2019-10-17  ...    0.000\n",
              "1   2019-10-17  ...    0.000\n",
              "2   2019-10-17  ...    0.000\n",
              "3   2019-10-17  ...    0.179\n",
              "4   2019-10-17  ...    0.000\n",
              "\n",
              "[5 rows x 8 columns]"
            ]
          },
          "metadata": {
            "tags": []
          },
          "execution_count": 169
        }
      ]
    },
    {
      "cell_type": "code",
      "metadata": {
        "id": "DlhEzf9pQhfZ"
      },
      "source": [
        "date_list = list(news_df.publish_date.unique())\n",
        "news_df_final = pd.DataFrame(columns=['date','polarity_mean','subjectivity_mean','Compound','Negative','Neutral','Positive'])\n",
        "for date in date_list:\n",
        "  temp = news_df.loc[news_df.publish_date == date]\n",
        "  pol = temp.Polarity.mean()\n",
        "  sub = temp.Subjectivity.mean()\n",
        "  com = temp.Compound.mean()\n",
        "  neg = temp.Negative.mean()\n",
        "  neu = temp.Neutral.mean()\n",
        "  pos = temp.Positive.mean()\n",
        "\n",
        "  news_df_final = news_df_final.append({'date': date,'polarity_mean': pol,'subjectivity_mean': sub,'Compound':com,'Negative':neg,'Neutral':neu,'Positive':pos}, ignore_index=True)\n"
      ],
      "execution_count": null,
      "outputs": []
    },
    {
      "cell_type": "code",
      "metadata": {
        "colab": {
          "base_uri": "https://localhost:8080/",
          "height": 195
        },
        "id": "Gy1O7fjIXYBa",
        "outputId": "1783b65f-e2d6-4417-90db-63ce5fdc887d"
      },
      "source": [
        "news_df_final.head()"
      ],
      "execution_count": null,
      "outputs": [
        {
          "output_type": "execute_result",
          "data": {
            "text/html": [
              "<div>\n",
              "<style scoped>\n",
              "    .dataframe tbody tr th:only-of-type {\n",
              "        vertical-align: middle;\n",
              "    }\n",
              "\n",
              "    .dataframe tbody tr th {\n",
              "        vertical-align: top;\n",
              "    }\n",
              "\n",
              "    .dataframe thead th {\n",
              "        text-align: right;\n",
              "    }\n",
              "</style>\n",
              "<table border=\"1\" class=\"dataframe\">\n",
              "  <thead>\n",
              "    <tr style=\"text-align: right;\">\n",
              "      <th></th>\n",
              "      <th>date</th>\n",
              "      <th>polarity_mean</th>\n",
              "      <th>subjectivity_mean</th>\n",
              "      <th>Compound</th>\n",
              "      <th>Negative</th>\n",
              "      <th>Neutral</th>\n",
              "      <th>Positive</th>\n",
              "    </tr>\n",
              "  </thead>\n",
              "  <tbody>\n",
              "    <tr>\n",
              "      <th>0</th>\n",
              "      <td>2019-10-17</td>\n",
              "      <td>0.030465</td>\n",
              "      <td>0.195995</td>\n",
              "      <td>-0.064499</td>\n",
              "      <td>0.116486</td>\n",
              "      <td>0.811782</td>\n",
              "      <td>0.071736</td>\n",
              "    </tr>\n",
              "    <tr>\n",
              "      <th>1</th>\n",
              "      <td>2019-10-18</td>\n",
              "      <td>0.018567</td>\n",
              "      <td>0.198447</td>\n",
              "      <td>-0.040108</td>\n",
              "      <td>0.108986</td>\n",
              "      <td>0.807801</td>\n",
              "      <td>0.083217</td>\n",
              "    </tr>\n",
              "    <tr>\n",
              "      <th>2</th>\n",
              "      <td>2019-10-19</td>\n",
              "      <td>0.042482</td>\n",
              "      <td>0.177297</td>\n",
              "      <td>-0.044446</td>\n",
              "      <td>0.109154</td>\n",
              "      <td>0.815824</td>\n",
              "      <td>0.075026</td>\n",
              "    </tr>\n",
              "    <tr>\n",
              "      <th>3</th>\n",
              "      <td>2019-10-20</td>\n",
              "      <td>0.020826</td>\n",
              "      <td>0.176952</td>\n",
              "      <td>-0.049552</td>\n",
              "      <td>0.105781</td>\n",
              "      <td>0.816647</td>\n",
              "      <td>0.077570</td>\n",
              "    </tr>\n",
              "    <tr>\n",
              "      <th>4</th>\n",
              "      <td>2019-10-21</td>\n",
              "      <td>0.028942</td>\n",
              "      <td>0.168246</td>\n",
              "      <td>-0.061851</td>\n",
              "      <td>0.107394</td>\n",
              "      <td>0.824581</td>\n",
              "      <td>0.068014</td>\n",
              "    </tr>\n",
              "  </tbody>\n",
              "</table>\n",
              "</div>"
            ],
            "text/plain": [
              "        date  polarity_mean  subjectivity_mean  ...  Negative   Neutral  Positive\n",
              "0 2019-10-17       0.030465           0.195995  ...  0.116486  0.811782  0.071736\n",
              "1 2019-10-18       0.018567           0.198447  ...  0.108986  0.807801  0.083217\n",
              "2 2019-10-19       0.042482           0.177297  ...  0.109154  0.815824  0.075026\n",
              "3 2019-10-20       0.020826           0.176952  ...  0.105781  0.816647  0.077570\n",
              "4 2019-10-21       0.028942           0.168246  ...  0.107394  0.824581  0.068014\n",
              "\n",
              "[5 rows x 7 columns]"
            ]
          },
          "metadata": {
            "tags": []
          },
          "execution_count": 173
        }
      ]
    },
    {
      "cell_type": "markdown",
      "metadata": {
        "id": "v6IW7S_KyKLb"
      },
      "source": [
        "Histogram of Polarity,Subjectivity,Negative,Neutral And Positive for each date"
      ]
    },
    {
      "cell_type": "code",
      "metadata": {
        "colab": {
          "base_uri": "https://localhost:8080/",
          "height": 391
        },
        "id": "y8GJJCXeOorF",
        "outputId": "5eb81013-1a53-491c-f154-caa06fa3ced8"
      },
      "source": [
        "#graph of subjectivity\n",
        "plt.figure(figsize = (10,6))\n",
        "news_df_final.subjectivity_mean.hist()"
      ],
      "execution_count": 284,
      "outputs": [
        {
          "output_type": "execute_result",
          "data": {
            "text/plain": [
              "<matplotlib.axes._subplots.AxesSubplot at 0x7f499a5ef5d0>"
            ]
          },
          "metadata": {
            "tags": []
          },
          "execution_count": 284
        },
        {
          "output_type": "display_data",
          "data": {
            "image/png": "[encoded data removed]",
            "text/plain": [
              "<Figure size 720x432 with 1 Axes>"
            ]
          },
          "metadata": {
            "tags": [],
            "needs_background": "light"
          }
        }
      ]
    },
    {
      "cell_type": "code",
      "metadata": {
        "colab": {
          "base_uri": "https://localhost:8080/",
          "height": 391
        },
        "id": "-7kIcS8eP5Le",
        "outputId": "1657c3ab-f21a-4a94-aaed-79d16cda28d5"
      },
      "source": [
        "plt.figure(figsize = (10,6))\n",
        "news_df_final.polarity_mean.hist()"
      ],
      "execution_count": 285,
      "outputs": [
        {
          "output_type": "execute_result",
          "data": {
            "text/plain": [
              "<matplotlib.axes._subplots.AxesSubplot at 0x7f499a5e4b50>"
            ]
          },
          "metadata": {
            "tags": []
          },
          "execution_count": 285
        },
        {
          "output_type": "display_data",
          "data": {
            "image/png": "[encoded data removed]",
            "text/plain": [
              "<Figure size 720x432 with 1 Axes>"
            ]
          },
          "metadata": {
            "tags": [],
            "needs_background": "light"
          }
        }
      ]
    },
    {
      "cell_type": "code",
      "metadata": {
        "colab": {
          "base_uri": "https://localhost:8080/",
          "height": 391
        },
        "id": "5ax9F6HywfGE",
        "outputId": "e25b11bc-2c83-4fee-988e-9cf541d35175"
      },
      "source": [
        "plt.figure(figsize = (10,6))\n",
        "news_df_final.Negative.hist(color='Red')"
      ],
      "execution_count": 282,
      "outputs": [
        {
          "output_type": "execute_result",
          "data": {
            "text/plain": [
              "<matplotlib.axes._subplots.AxesSubplot at 0x7f499a7c2c10>"
            ]
          },
          "metadata": {
            "tags": []
          },
          "execution_count": 282
        },
        {
          "output_type": "display_data",
          "data": {
            "image/png": "[encoded data removed]",
            "text/plain": [
              "<Figure size 720x432 with 1 Axes>"
            ]
          },
          "metadata": {
            "tags": [],
            "needs_background": "light"
          }
        }
      ]
    },
    {
      "cell_type": "code",
      "metadata": {
        "colab": {
          "base_uri": "https://localhost:8080/",
          "height": 391
        },
        "id": "8hmbnQ6QwniW",
        "outputId": "a6f8ddec-349a-4859-c582-bfd609a213a9"
      },
      "source": [
        "plt.figure(figsize = (10,6))\n",
        "news_df_final.Positive.hist(color='green')"
      ],
      "execution_count": 283,
      "outputs": [
        {
          "output_type": "execute_result",
          "data": {
            "text/plain": [
              "<matplotlib.axes._subplots.AxesSubplot at 0x7f499a751050>"
            ]
          },
          "metadata": {
            "tags": []
          },
          "execution_count": 283
        },
        {
          "output_type": "display_data",
          "data": {
            "image/png": "[encoded data removed]",
            "text/plain": [
              "<Figure size 720x432 with 1 Axes>"
            ]
          },
          "metadata": {
            "tags": [],
            "needs_background": "light"
          }
        }
      ]
    },
    {
      "cell_type": "code",
      "metadata": {
        "colab": {
          "base_uri": "https://localhost:8080/",
          "height": 391
        },
        "id": "hQGhk_T5wsPv",
        "outputId": "7b6102e0-c740-496c-c8fa-5b851d87c80d"
      },
      "source": [
        "plt.figure(figsize = (10,6))\n",
        "news_df_final.Neutral.hist()"
      ],
      "execution_count": 281,
      "outputs": [
        {
          "output_type": "execute_result",
          "data": {
            "text/plain": [
              "<matplotlib.axes._subplots.AxesSubplot at 0x7f499958de90>"
            ]
          },
          "metadata": {
            "tags": []
          },
          "execution_count": 281
        },
        {
          "output_type": "display_data",
          "data": {
            "image/png": "[encoded data removed]",
            "text/plain": [
              "<Figure size 720x432 with 1 Axes>"
            ]
          },
          "metadata": {
            "tags": [],
            "needs_background": "light"
          }
        }
      ]
    },
    {
      "cell_type": "markdown",
      "metadata": {
        "id": "RJ8UowZfoHQ2"
      },
      "source": [
        "**Working on the Stock Dataset**"
      ]
    },
    {
      "cell_type": "code",
      "metadata": {
        "colab": {
          "base_uri": "https://localhost:8080/",
          "height": 195
        },
        "id": "xKzy1o1_fT4Y",
        "outputId": "107c3f94-1e59-414e-cd62-6b3f44bb53b3"
      },
      "source": [
        "stock_df = pd.read_csv(\"BSME.csv\")\n",
        "stock_df.head()"
      ],
      "execution_count": null,
      "outputs": [
        {
          "output_type": "execute_result",
          "data": {
            "text/html": [
              "<div>\n",
              "<style scoped>\n",
              "    .dataframe tbody tr th:only-of-type {\n",
              "        vertical-align: middle;\n",
              "    }\n",
              "\n",
              "    .dataframe tbody tr th {\n",
              "        vertical-align: top;\n",
              "    }\n",
              "\n",
              "    .dataframe thead th {\n",
              "        text-align: right;\n",
              "    }\n",
              "</style>\n",
              "<table border=\"1\" class=\"dataframe\">\n",
              "  <thead>\n",
              "    <tr style=\"text-align: right;\">\n",
              "      <th></th>\n",
              "      <th>Date</th>\n",
              "      <th>Open</th>\n",
              "      <th>High</th>\n",
              "      <th>Low</th>\n",
              "      <th>Close</th>\n",
              "      <th>Adj Close</th>\n",
              "      <th>Volume</th>\n",
              "    </tr>\n",
              "  </thead>\n",
              "  <tbody>\n",
              "    <tr>\n",
              "      <th>0</th>\n",
              "      <td>16-10-2019</td>\n",
              "      <td>38637.05078</td>\n",
              "      <td>38666.37891</td>\n",
              "      <td>38416.67188</td>\n",
              "      <td>38598.98828</td>\n",
              "      <td>38598.98828</td>\n",
              "      <td>27500.0</td>\n",
              "    </tr>\n",
              "    <tr>\n",
              "      <th>1</th>\n",
              "      <td>17-10-2019</td>\n",
              "      <td>38647.44141</td>\n",
              "      <td>39104.69141</td>\n",
              "      <td>38557.42969</td>\n",
              "      <td>39052.05859</td>\n",
              "      <td>39052.05859</td>\n",
              "      <td>47100.0</td>\n",
              "    </tr>\n",
              "    <tr>\n",
              "      <th>2</th>\n",
              "      <td>18-10-2019</td>\n",
              "      <td>39087.82813</td>\n",
              "      <td>39361.05859</td>\n",
              "      <td>38963.60156</td>\n",
              "      <td>39298.37891</td>\n",
              "      <td>39298.37891</td>\n",
              "      <td>42400.0</td>\n",
              "    </tr>\n",
              "    <tr>\n",
              "      <th>3</th>\n",
              "      <td>22-10-2019</td>\n",
              "      <td>39233.39844</td>\n",
              "      <td>39426.46875</td>\n",
              "      <td>38924.85156</td>\n",
              "      <td>38963.83984</td>\n",
              "      <td>38963.83984</td>\n",
              "      <td>54500.0</td>\n",
              "    </tr>\n",
              "    <tr>\n",
              "      <th>4</th>\n",
              "      <td>23-10-2019</td>\n",
              "      <td>39063.83984</td>\n",
              "      <td>39196.67188</td>\n",
              "      <td>38866.07813</td>\n",
              "      <td>39058.82813</td>\n",
              "      <td>39058.82813</td>\n",
              "      <td>41000.0</td>\n",
              "    </tr>\n",
              "  </tbody>\n",
              "</table>\n",
              "</div>"
            ],
            "text/plain": [
              "         Date         Open         High  ...        Close    Adj Close   Volume\n",
              "0  16-10-2019  38637.05078  38666.37891  ...  38598.98828  38598.98828  27500.0\n",
              "1  17-10-2019  38647.44141  39104.69141  ...  39052.05859  39052.05859  47100.0\n",
              "2  18-10-2019  39087.82813  39361.05859  ...  39298.37891  39298.37891  42400.0\n",
              "3  22-10-2019  39233.39844  39426.46875  ...  38963.83984  38963.83984  54500.0\n",
              "4  23-10-2019  39063.83984  39196.67188  ...  39058.82813  39058.82813  41000.0\n",
              "\n",
              "[5 rows x 7 columns]"
            ]
          },
          "metadata": {
            "tags": []
          },
          "execution_count": 229
        }
      ]
    },
    {
      "cell_type": "code",
      "metadata": {
        "colab": {
          "base_uri": "https://localhost:8080/"
        },
        "id": "DPe0SUy3dcjP",
        "outputId": "951032ca-79d7-4fa8-c064-b587c7f27493"
      },
      "source": [
        "stock_df.info()"
      ],
      "execution_count": null,
      "outputs": [
        {
          "output_type": "stream",
          "text": [
            "<class 'pandas.core.frame.DataFrame'>\n",
            "RangeIndex: 251 entries, 0 to 250\n",
            "Data columns (total 7 columns):\n",
            " #   Column     Non-Null Count  Dtype  \n",
            "---  ------     --------------  -----  \n",
            " 0   Date       251 non-null    object \n",
            " 1   Open       249 non-null    float64\n",
            " 2   High       249 non-null    float64\n",
            " 3   Low        249 non-null    float64\n",
            " 4   Close      249 non-null    float64\n",
            " 5   Adj Close  249 non-null    float64\n",
            " 6   Volume     249 non-null    float64\n",
            "dtypes: float64(6), object(1)\n",
            "memory usage: 13.9+ KB\n"
          ],
          "name": "stdout"
        }
      ]
    },
    {
      "cell_type": "code",
      "metadata": {
        "id": "y8E6IhtmeS1k"
      },
      "source": [
        "stock_df['Date'] = pd.to_datetime(stock_df.Date,format='%d-%m-%Y')\n",
        "stock_df.index = stock_df['Date']\n",
        "stock_df.dropna(subset=['Close'],inplace=True)"
      ],
      "execution_count": null,
      "outputs": []
    },
    {
      "cell_type": "code",
      "metadata": {
        "colab": {
          "base_uri": "https://localhost:8080/",
          "height": 516
        },
        "id": "n7VQJNVBeotG",
        "outputId": "a118c76b-eaf0-4538-a696-453c2e715fdd"
      },
      "source": [
        "plt.figure(figsize=(16,8))\n",
        "plt.plot(stock_df['Close'])\n",
        "plt.title('Close Price history')"
      ],
      "execution_count": null,
      "outputs": [
        {
          "output_type": "execute_result",
          "data": {
            "text/plain": [
              "Text(0.5, 1.0, 'Close Price history')"
            ]
          },
          "metadata": {
            "tags": []
          },
          "execution_count": 232
        },
        {
          "output_type": "display_data",
          "data": {
            "image/png": "[encoded data removed]",
            "text/plain": [
              "<Figure size 1152x576 with 1 Axes>"
            ]
          },
          "metadata": {
            "tags": [],
            "needs_background": "light"
          }
        }
      ]
    },
    {
      "cell_type": "code",
      "metadata": {
        "colab": {
          "base_uri": "https://localhost:8080/"
        },
        "id": "7rEc97Cjehlv",
        "outputId": "cf4a472f-5b9c-4657-cafc-5a4e8a5f9e0c"
      },
      "source": [
        "stock_df.info()"
      ],
      "execution_count": null,
      "outputs": [
        {
          "output_type": "stream",
          "text": [
            "<class 'pandas.core.frame.DataFrame'>\n",
            "DatetimeIndex: 249 entries, 2019-10-16 to 2020-10-16\n",
            "Data columns (total 7 columns):\n",
            " #   Column     Non-Null Count  Dtype         \n",
            "---  ------     --------------  -----         \n",
            " 0   Date       249 non-null    datetime64[ns]\n",
            " 1   Open       249 non-null    float64       \n",
            " 2   High       249 non-null    float64       \n",
            " 3   Low        249 non-null    float64       \n",
            " 4   Close      249 non-null    float64       \n",
            " 5   Adj Close  249 non-null    float64       \n",
            " 6   Volume     249 non-null    float64       \n",
            "dtypes: datetime64[ns](1), float64(6)\n",
            "memory usage: 15.6 KB\n"
          ],
          "name": "stdout"
        }
      ]
    },
    {
      "cell_type": "code",
      "metadata": {
        "id": "o2GoVl0IgXH_"
      },
      "source": [
        "closing_data = pd.read_csv('BSME.csv', usecols=[5])\n",
        "closing_data.dropna(inplace=True)\n",
        "closing_data = closing_data.values\n",
        "closing_data = closing_data.astype('float32')"
      ],
      "execution_count": null,
      "outputs": []
    },
    {
      "cell_type": "code",
      "metadata": {
        "id": "bij_UuAifigL"
      },
      "source": [
        "def create_dataset(closing_data, look_back=1):\n",
        "\tdataX, dataY = [], []\n",
        "\tfor i in range(len(closing_data)-look_back-1):\n",
        "\t\ta = closing_data[i:(i+look_back), 0]\n",
        "\t\tdataX.append(a)\n",
        "\t\tdataY.append(closing_data[i + look_back, 0])\n",
        "\treturn np.array(dataX), np.array(dataY)"
      ],
      "execution_count": null,
      "outputs": []
    },
    {
      "cell_type": "code",
      "metadata": {
        "id": "Kil4mqSYfj2f"
      },
      "source": [
        "scaler = MinMaxScaler(feature_range=(0, 1))\n",
        "closing_data = scaler.fit_transform(closing_data)"
      ],
      "execution_count": null,
      "outputs": []
    },
    {
      "cell_type": "code",
      "metadata": {
        "id": "1IrSEO6RgTMP"
      },
      "source": [
        "train_size = int(len(closing_data) * 0.70)\n",
        "test_size = len(closing_data) - train_size\n",
        "train, test = closing_data[0:train_size,:], closing_data[train_size:len(closing_data),:]"
      ],
      "execution_count": null,
      "outputs": []
    },
    {
      "cell_type": "code",
      "metadata": {
        "id": "_LKuYjDchGa3"
      },
      "source": [
        "look_back = 3\n",
        "xtrain, ytrain = create_dataset(train, look_back)\n",
        "xtest, ytest = create_dataset(test, look_back)\n",
        "#reshape input to be [samples, time steps, features]\n",
        "xtrain = np.reshape(xtrain, (xtrain.shape[0], xtrain.shape[1], 1))\n",
        "xtest = np.reshape(xtest, (xtest.shape[0], xtest.shape[1], 1))"
      ],
      "execution_count": null,
      "outputs": []
    },
    {
      "cell_type": "code",
      "metadata": {
        "colab": {
          "base_uri": "https://localhost:8080/"
        },
        "id": "ApCvkh8JhX-E",
        "outputId": "a3064701-56a6-46b6-b5e6-36fd6f7f292c"
      },
      "source": [
        "print(xtrain[0])"
      ],
      "execution_count": null,
      "outputs": [
        {
          "output_type": "stream",
          "text": [
            "[[0.790022  ]\n",
            " [0.81838953]\n",
            " [0.8338121 ]]\n"
          ],
          "name": "stdout"
        }
      ]
    },
    {
      "cell_type": "code",
      "metadata": {
        "colab": {
          "base_uri": "https://localhost:8080/"
        },
        "id": "SK0qcUpnhbbM",
        "outputId": "5e47cc63-d0c6-4485-f58c-526d01eec929"
      },
      "source": [
        "print(ytrain[0])"
      ],
      "execution_count": null,
      "outputs": [
        {
          "output_type": "stream",
          "text": [
            "0.8128661\n"
          ],
          "name": "stdout"
        }
      ]
    },
    {
      "cell_type": "code",
      "metadata": {
        "colab": {
          "base_uri": "https://localhost:8080/"
        },
        "id": "dWunApwEhbm_",
        "outputId": "ed720e49-91b9-490b-9db9-42549953927a"
      },
      "source": [
        "model = Sequential()\n",
        "model.add(LSTM(7, input_shape=(look_back, 1)))\n",
        "model.add(Dense(1))\n",
        "model.compile(loss='mean_squared_error', optimizer='adam')\n",
        "model.fit(xtrain, ytrain, epochs=250, batch_size=1, verbose=1)"
      ],
      "execution_count": null,
      "outputs": [
        {
          "output_type": "stream",
          "text": [
            "Epoch 1/250\n",
            "170/170 [==============================] - 2s 2ms/step - loss: 0.5295\n",
            "Epoch 2/250\n",
            "170/170 [==============================] - 0s 2ms/step - loss: 0.0424\n",
            "Epoch 3/250\n",
            "170/170 [==============================] - 0s 2ms/step - loss: 0.0207\n",
            "Epoch 4/250\n",
            "170/170 [==============================] - 0s 2ms/step - loss: 0.0096\n",
            "Epoch 5/250\n",
            "170/170 [==============================] - 0s 2ms/step - loss: 0.0052\n",
            "Epoch 6/250\n",
            "170/170 [==============================] - 0s 2ms/step - loss: 0.0047\n",
            "Epoch 7/250\n",
            "170/170 [==============================] - 0s 2ms/step - loss: 0.0029\n",
            "Epoch 8/250\n",
            "170/170 [==============================] - 0s 2ms/step - loss: 0.0029\n",
            "Epoch 9/250\n",
            "170/170 [==============================] - 0s 2ms/step - loss: 0.0042\n",
            "Epoch 10/250\n",
            "170/170 [==============================] - 0s 2ms/step - loss: 0.0029\n",
            "Epoch 11/250\n",
            "170/170 [==============================] - 0s 2ms/step - loss: 0.0019\n",
            "Epoch 12/250\n",
            "170/170 [==============================] - 0s 2ms/step - loss: 0.0030\n",
            "Epoch 13/250\n",
            "170/170 [==============================] - 0s 2ms/step - loss: 0.0026\n",
            "Epoch 14/250\n",
            "170/170 [==============================] - 0s 2ms/step - loss: 0.0030\n",
            "Epoch 15/250\n",
            "170/170 [==============================] - 0s 2ms/step - loss: 0.0030\n",
            "Epoch 16/250\n",
            "170/170 [==============================] - 0s 2ms/step - loss: 0.0031\n",
            "Epoch 17/250\n",
            "170/170 [==============================] - 0s 1ms/step - loss: 0.0025\n",
            "Epoch 18/250\n",
            "170/170 [==============================] - 0s 1ms/step - loss: 0.0041\n",
            "Epoch 19/250\n",
            "170/170 [==============================] - 0s 1ms/step - loss: 0.0038\n",
            "Epoch 20/250\n",
            "170/170 [==============================] - 0s 1ms/step - loss: 0.0026\n",
            "Epoch 21/250\n",
            "170/170 [==============================] - 0s 1ms/step - loss: 0.0024\n",
            "Epoch 22/250\n",
            "170/170 [==============================] - 0s 1ms/step - loss: 0.0032\n",
            "Epoch 23/250\n",
            "170/170 [==============================] - 0s 2ms/step - loss: 0.0031\n",
            "Epoch 24/250\n",
            "170/170 [==============================] - 0s 1ms/step - loss: 0.0021\n",
            "Epoch 25/250\n",
            "170/170 [==============================] - 0s 1ms/step - loss: 0.0028\n",
            "Epoch 26/250\n",
            "170/170 [==============================] - 0s 1ms/step - loss: 0.0028\n",
            "Epoch 27/250\n",
            "170/170 [==============================] - 0s 2ms/step - loss: 0.0043\n",
            "Epoch 28/250\n",
            "170/170 [==============================] - 0s 2ms/step - loss: 0.0039\n",
            "Epoch 29/250\n",
            "170/170 [==============================] - 0s 2ms/step - loss: 0.0022\n",
            "Epoch 30/250\n",
            "170/170 [==============================] - 0s 2ms/step - loss: 0.0045\n",
            "Epoch 31/250\n",
            "170/170 [==============================] - 0s 1ms/step - loss: 0.0029\n",
            "Epoch 32/250\n",
            "170/170 [==============================] - 0s 1ms/step - loss: 0.0029\n",
            "Epoch 33/250\n",
            "170/170 [==============================] - 0s 2ms/step - loss: 0.0030\n",
            "Epoch 34/250\n",
            "170/170 [==============================] - 0s 2ms/step - loss: 0.0027\n",
            "Epoch 35/250\n",
            "170/170 [==============================] - 0s 2ms/step - loss: 0.0030\n",
            "Epoch 36/250\n",
            "170/170 [==============================] - 0s 1ms/step - loss: 0.0027\n",
            "Epoch 37/250\n",
            "170/170 [==============================] - 0s 2ms/step - loss: 0.0044\n",
            "Epoch 38/250\n",
            "170/170 [==============================] - 0s 2ms/step - loss: 0.0032\n",
            "Epoch 39/250\n",
            "170/170 [==============================] - 0s 1ms/step - loss: 0.0035\n",
            "Epoch 40/250\n",
            "170/170 [==============================] - 0s 1ms/step - loss: 0.0030\n",
            "Epoch 41/250\n",
            "170/170 [==============================] - 0s 1ms/step - loss: 0.0028\n",
            "Epoch 42/250\n",
            "170/170 [==============================] - 0s 1ms/step - loss: 0.0028\n",
            "Epoch 43/250\n",
            "170/170 [==============================] - 0s 2ms/step - loss: 0.0028\n",
            "Epoch 44/250\n",
            "170/170 [==============================] - 0s 2ms/step - loss: 0.0023\n",
            "Epoch 45/250\n",
            "170/170 [==============================] - 0s 2ms/step - loss: 0.0030\n",
            "Epoch 46/250\n",
            "170/170 [==============================] - 0s 2ms/step - loss: 0.0021\n",
            "Epoch 47/250\n",
            "170/170 [==============================] - 0s 1ms/step - loss: 0.0026\n",
            "Epoch 48/250\n",
            "170/170 [==============================] - 0s 2ms/step - loss: 0.0034\n",
            "Epoch 49/250\n",
            "170/170 [==============================] - 0s 2ms/step - loss: 0.0030\n",
            "Epoch 50/250\n",
            "170/170 [==============================] - 0s 2ms/step - loss: 0.0028\n",
            "Epoch 51/250\n",
            "170/170 [==============================] - 0s 1ms/step - loss: 0.0029\n",
            "Epoch 52/250\n",
            "170/170 [==============================] - 0s 1ms/step - loss: 0.0032\n",
            "Epoch 53/250\n",
            "170/170 [==============================] - 0s 2ms/step - loss: 0.0023\n",
            "Epoch 54/250\n",
            "170/170 [==============================] - 0s 1ms/step - loss: 0.0030\n",
            "Epoch 55/250\n",
            "170/170 [==============================] - 0s 2ms/step - loss: 0.0022\n",
            "Epoch 56/250\n",
            "170/170 [==============================] - 0s 2ms/step - loss: 0.0039\n",
            "Epoch 57/250\n",
            "170/170 [==============================] - 0s 2ms/step - loss: 0.0027\n",
            "Epoch 58/250\n",
            "170/170 [==============================] - 0s 2ms/step - loss: 0.0028\n",
            "Epoch 59/250\n",
            "170/170 [==============================] - 0s 1ms/step - loss: 0.0021\n",
            "Epoch 60/250\n",
            "170/170 [==============================] - 0s 2ms/step - loss: 0.0031\n",
            "Epoch 61/250\n",
            "170/170 [==============================] - 0s 2ms/step - loss: 0.0026\n",
            "Epoch 62/250\n",
            "170/170 [==============================] - 0s 2ms/step - loss: 0.0028\n",
            "Epoch 63/250\n",
            "170/170 [==============================] - 0s 2ms/step - loss: 0.0033\n",
            "Epoch 64/250\n",
            "170/170 [==============================] - 0s 2ms/step - loss: 0.0025\n",
            "Epoch 65/250\n",
            "170/170 [==============================] - 0s 2ms/step - loss: 0.0025\n",
            "Epoch 66/250\n",
            "170/170 [==============================] - 0s 2ms/step - loss: 0.0029\n",
            "Epoch 67/250\n",
            "170/170 [==============================] - 0s 2ms/step - loss: 0.0025\n",
            "Epoch 68/250\n",
            "170/170 [==============================] - 0s 1ms/step - loss: 0.0031\n",
            "Epoch 69/250\n",
            "170/170 [==============================] - 0s 1ms/step - loss: 0.0029\n",
            "Epoch 70/250\n",
            "170/170 [==============================] - 0s 1ms/step - loss: 0.0029\n",
            "Epoch 71/250\n",
            "170/170 [==============================] - 0s 2ms/step - loss: 0.0027\n",
            "Epoch 72/250\n",
            "170/170 [==============================] - 0s 1ms/step - loss: 0.0023\n",
            "Epoch 73/250\n",
            "170/170 [==============================] - 0s 2ms/step - loss: 0.0024\n",
            "Epoch 74/250\n",
            "170/170 [==============================] - 0s 2ms/step - loss: 0.0022\n",
            "Epoch 75/250\n",
            "170/170 [==============================] - 0s 2ms/step - loss: 0.0029\n",
            "Epoch 76/250\n",
            "170/170 [==============================] - 0s 2ms/step - loss: 0.0020\n",
            "Epoch 77/250\n",
            "170/170 [==============================] - 0s 2ms/step - loss: 0.0028\n",
            "Epoch 78/250\n",
            "170/170 [==============================] - 0s 2ms/step - loss: 0.0023\n",
            "Epoch 79/250\n",
            "170/170 [==============================] - 0s 2ms/step - loss: 0.0027\n",
            "Epoch 80/250\n",
            "170/170 [==============================] - 0s 1ms/step - loss: 0.0028\n",
            "Epoch 81/250\n",
            "170/170 [==============================] - 0s 1ms/step - loss: 0.0019\n",
            "Epoch 82/250\n",
            "170/170 [==============================] - 0s 2ms/step - loss: 0.0033\n",
            "Epoch 83/250\n",
            "170/170 [==============================] - 0s 2ms/step - loss: 0.0028\n",
            "Epoch 84/250\n",
            "170/170 [==============================] - 0s 2ms/step - loss: 0.0024\n",
            "Epoch 85/250\n",
            "170/170 [==============================] - 0s 2ms/step - loss: 0.0024\n",
            "Epoch 86/250\n",
            "170/170 [==============================] - 0s 2ms/step - loss: 0.0021\n",
            "Epoch 87/250\n",
            "170/170 [==============================] - 0s 2ms/step - loss: 0.0026\n",
            "Epoch 88/250\n",
            "170/170 [==============================] - 0s 2ms/step - loss: 0.0015\n",
            "Epoch 89/250\n",
            "170/170 [==============================] - 0s 2ms/step - loss: 0.0025\n",
            "Epoch 90/250\n",
            "170/170 [==============================] - 0s 2ms/step - loss: 0.0019\n",
            "Epoch 91/250\n",
            "170/170 [==============================] - 0s 2ms/step - loss: 0.0017\n",
            "Epoch 92/250\n",
            "170/170 [==============================] - 0s 1ms/step - loss: 0.0017\n",
            "Epoch 93/250\n",
            "170/170 [==============================] - 0s 2ms/step - loss: 0.0021\n",
            "Epoch 94/250\n",
            "170/170 [==============================] - 0s 2ms/step - loss: 0.0027\n",
            "Epoch 95/250\n",
            "170/170 [==============================] - 0s 2ms/step - loss: 0.0017\n",
            "Epoch 96/250\n",
            "170/170 [==============================] - 0s 1ms/step - loss: 0.0021\n",
            "Epoch 97/250\n",
            "170/170 [==============================] - 0s 2ms/step - loss: 0.0030\n",
            "Epoch 98/250\n",
            "170/170 [==============================] - 0s 2ms/step - loss: 0.0018\n",
            "Epoch 99/250\n",
            "170/170 [==============================] - 0s 1ms/step - loss: 0.0024\n",
            "Epoch 100/250\n",
            "170/170 [==============================] - 0s 1ms/step - loss: 0.0024\n",
            "Epoch 101/250\n",
            "170/170 [==============================] - 0s 2ms/step - loss: 0.0024\n",
            "Epoch 102/250\n",
            "170/170 [==============================] - 0s 1ms/step - loss: 0.0021\n",
            "Epoch 103/250\n",
            "170/170 [==============================] - 0s 2ms/step - loss: 0.0020\n",
            "Epoch 104/250\n",
            "170/170 [==============================] - 0s 2ms/step - loss: 0.0024\n",
            "Epoch 105/250\n",
            "170/170 [==============================] - 0s 2ms/step - loss: 0.0015\n",
            "Epoch 106/250\n",
            "170/170 [==============================] - 0s 2ms/step - loss: 0.0017\n",
            "Epoch 107/250\n",
            "170/170 [==============================] - 0s 2ms/step - loss: 0.0036\n",
            "Epoch 108/250\n",
            "170/170 [==============================] - 0s 2ms/step - loss: 0.0018\n",
            "Epoch 109/250\n",
            "170/170 [==============================] - 0s 2ms/step - loss: 0.0031\n",
            "Epoch 110/250\n",
            "170/170 [==============================] - 0s 1ms/step - loss: 0.0024\n",
            "Epoch 111/250\n",
            "170/170 [==============================] - 0s 2ms/step - loss: 0.0020\n",
            "Epoch 112/250\n",
            "170/170 [==============================] - 0s 2ms/step - loss: 0.0023\n",
            "Epoch 113/250\n",
            "170/170 [==============================] - 0s 2ms/step - loss: 0.0028\n",
            "Epoch 114/250\n",
            "170/170 [==============================] - 0s 2ms/step - loss: 0.0022\n",
            "Epoch 115/250\n",
            "170/170 [==============================] - 0s 2ms/step - loss: 0.0028\n",
            "Epoch 116/250\n",
            "170/170 [==============================] - 0s 2ms/step - loss: 0.0019\n",
            "Epoch 117/250\n",
            "170/170 [==============================] - 0s 2ms/step - loss: 0.0021\n",
            "Epoch 118/250\n",
            "170/170 [==============================] - 0s 1ms/step - loss: 0.0023\n",
            "Epoch 119/250\n",
            "170/170 [==============================] - 0s 2ms/step - loss: 0.0019\n",
            "Epoch 120/250\n",
            "170/170 [==============================] - 0s 2ms/step - loss: 0.0018\n",
            "Epoch 121/250\n",
            "170/170 [==============================] - 0s 2ms/step - loss: 0.0023\n",
            "Epoch 122/250\n",
            "170/170 [==============================] - 0s 2ms/step - loss: 0.0019\n",
            "Epoch 123/250\n",
            "170/170 [==============================] - 0s 2ms/step - loss: 0.0019\n",
            "Epoch 124/250\n",
            "170/170 [==============================] - 0s 2ms/step - loss: 0.0019\n",
            "Epoch 125/250\n",
            "170/170 [==============================] - 0s 2ms/step - loss: 0.0035\n",
            "Epoch 126/250\n",
            "170/170 [==============================] - 0s 2ms/step - loss: 0.0014\n",
            "Epoch 127/250\n",
            "170/170 [==============================] - 0s 2ms/step - loss: 0.0024\n",
            "Epoch 128/250\n",
            "170/170 [==============================] - 0s 2ms/step - loss: 0.0021\n",
            "Epoch 129/250\n",
            "170/170 [==============================] - 0s 2ms/step - loss: 0.0019\n",
            "Epoch 130/250\n",
            "170/170 [==============================] - 0s 2ms/step - loss: 0.0032\n",
            "Epoch 131/250\n",
            "170/170 [==============================] - 0s 2ms/step - loss: 0.0023\n",
            "Epoch 132/250\n",
            "170/170 [==============================] - 0s 2ms/step - loss: 0.0018\n",
            "Epoch 133/250\n",
            "170/170 [==============================] - 0s 2ms/step - loss: 0.0022\n",
            "Epoch 134/250\n",
            "170/170 [==============================] - 0s 2ms/step - loss: 0.0019\n",
            "Epoch 135/250\n",
            "170/170 [==============================] - 0s 2ms/step - loss: 0.0012\n",
            "Epoch 136/250\n",
            "170/170 [==============================] - 0s 2ms/step - loss: 0.0019\n",
            "Epoch 137/250\n",
            "170/170 [==============================] - 0s 2ms/step - loss: 0.0018\n",
            "Epoch 138/250\n",
            "170/170 [==============================] - 0s 2ms/step - loss: 0.0014\n",
            "Epoch 139/250\n",
            "170/170 [==============================] - 0s 2ms/step - loss: 0.0022\n",
            "Epoch 140/250\n",
            "170/170 [==============================] - 0s 2ms/step - loss: 0.0021\n",
            "Epoch 141/250\n",
            "170/170 [==============================] - 0s 2ms/step - loss: 0.0016\n",
            "Epoch 142/250\n",
            "170/170 [==============================] - 0s 2ms/step - loss: 0.0024\n",
            "Epoch 143/250\n",
            "170/170 [==============================] - 0s 2ms/step - loss: 0.0027\n",
            "Epoch 144/250\n",
            "170/170 [==============================] - 0s 2ms/step - loss: 0.0019\n",
            "Epoch 145/250\n",
            "170/170 [==============================] - 0s 2ms/step - loss: 0.0032\n",
            "Epoch 146/250\n",
            "170/170 [==============================] - 0s 2ms/step - loss: 0.0019\n",
            "Epoch 147/250\n",
            "170/170 [==============================] - 0s 2ms/step - loss: 0.0018\n",
            "Epoch 148/250\n",
            "170/170 [==============================] - 0s 2ms/step - loss: 0.0019\n",
            "Epoch 149/250\n",
            "170/170 [==============================] - 0s 2ms/step - loss: 0.0023\n",
            "Epoch 150/250\n",
            "170/170 [==============================] - 0s 2ms/step - loss: 0.0017\n",
            "Epoch 151/250\n",
            "170/170 [==============================] - 0s 2ms/step - loss: 0.0020\n",
            "Epoch 152/250\n",
            "170/170 [==============================] - 0s 2ms/step - loss: 0.0021\n",
            "Epoch 153/250\n",
            "170/170 [==============================] - 0s 2ms/step - loss: 0.0016\n",
            "Epoch 154/250\n",
            "170/170 [==============================] - 0s 2ms/step - loss: 0.0022\n",
            "Epoch 155/250\n",
            "170/170 [==============================] - 0s 2ms/step - loss: 0.0023\n",
            "Epoch 156/250\n",
            "170/170 [==============================] - 0s 2ms/step - loss: 0.0035\n",
            "Epoch 157/250\n",
            "170/170 [==============================] - 0s 2ms/step - loss: 0.0021\n",
            "Epoch 158/250\n",
            "170/170 [==============================] - 0s 2ms/step - loss: 0.0030\n",
            "Epoch 159/250\n",
            "170/170 [==============================] - 0s 2ms/step - loss: 0.0020\n",
            "Epoch 160/250\n",
            "170/170 [==============================] - 0s 2ms/step - loss: 0.0020\n",
            "Epoch 161/250\n",
            "170/170 [==============================] - 0s 2ms/step - loss: 0.0016\n",
            "Epoch 162/250\n",
            "170/170 [==============================] - 0s 2ms/step - loss: 0.0017\n",
            "Epoch 163/250\n",
            "170/170 [==============================] - 0s 2ms/step - loss: 0.0019\n",
            "Epoch 164/250\n",
            "170/170 [==============================] - 0s 2ms/step - loss: 0.0021\n",
            "Epoch 165/250\n",
            "170/170 [==============================] - 0s 2ms/step - loss: 0.0026\n",
            "Epoch 166/250\n",
            "170/170 [==============================] - 0s 2ms/step - loss: 0.0020\n",
            "Epoch 167/250\n",
            "170/170 [==============================] - 0s 1ms/step - loss: 0.0028\n",
            "Epoch 168/250\n",
            "170/170 [==============================] - 0s 2ms/step - loss: 0.0018\n",
            "Epoch 169/250\n",
            "170/170 [==============================] - 0s 1ms/step - loss: 0.0018\n",
            "Epoch 170/250\n",
            "170/170 [==============================] - 0s 2ms/step - loss: 0.0020\n",
            "Epoch 171/250\n",
            "170/170 [==============================] - 0s 2ms/step - loss: 0.0020\n",
            "Epoch 172/250\n",
            "170/170 [==============================] - 0s 2ms/step - loss: 0.0016\n",
            "Epoch 173/250\n",
            "170/170 [==============================] - 0s 2ms/step - loss: 0.0016\n",
            "Epoch 174/250\n",
            "170/170 [==============================] - 0s 2ms/step - loss: 0.0020\n",
            "Epoch 175/250\n",
            "170/170 [==============================] - 0s 2ms/step - loss: 0.0015\n",
            "Epoch 176/250\n",
            "170/170 [==============================] - 0s 2ms/step - loss: 0.0029\n",
            "Epoch 177/250\n",
            "170/170 [==============================] - 0s 2ms/step - loss: 0.0027\n",
            "Epoch 178/250\n",
            "170/170 [==============================] - 0s 2ms/step - loss: 0.0028\n",
            "Epoch 179/250\n",
            "170/170 [==============================] - 0s 2ms/step - loss: 0.0016\n",
            "Epoch 180/250\n",
            "170/170 [==============================] - 0s 2ms/step - loss: 0.0022\n",
            "Epoch 181/250\n",
            "170/170 [==============================] - 0s 2ms/step - loss: 0.0023\n",
            "Epoch 182/250\n",
            "170/170 [==============================] - 0s 2ms/step - loss: 0.0015\n",
            "Epoch 183/250\n",
            "170/170 [==============================] - 0s 2ms/step - loss: 0.0020\n",
            "Epoch 184/250\n",
            "170/170 [==============================] - 0s 1ms/step - loss: 0.0019\n",
            "Epoch 185/250\n",
            "170/170 [==============================] - 0s 2ms/step - loss: 0.0018\n",
            "Epoch 186/250\n",
            "170/170 [==============================] - 0s 2ms/step - loss: 0.0023\n",
            "Epoch 187/250\n",
            "170/170 [==============================] - 0s 2ms/step - loss: 0.0023\n",
            "Epoch 188/250\n",
            "170/170 [==============================] - 0s 2ms/step - loss: 0.0021\n",
            "Epoch 189/250\n",
            "170/170 [==============================] - 0s 2ms/step - loss: 0.0022\n",
            "Epoch 190/250\n",
            "170/170 [==============================] - 0s 2ms/step - loss: 0.0025\n",
            "Epoch 191/250\n",
            "170/170 [==============================] - 0s 2ms/step - loss: 0.0024\n",
            "Epoch 192/250\n",
            "170/170 [==============================] - 0s 2ms/step - loss: 0.0020\n",
            "Epoch 193/250\n",
            "170/170 [==============================] - 0s 1ms/step - loss: 0.0020\n",
            "Epoch 194/250\n",
            "170/170 [==============================] - 0s 2ms/step - loss: 0.0025\n",
            "Epoch 195/250\n",
            "170/170 [==============================] - 0s 2ms/step - loss: 0.0021\n",
            "Epoch 196/250\n",
            "170/170 [==============================] - 0s 2ms/step - loss: 0.0014\n",
            "Epoch 197/250\n",
            "170/170 [==============================] - 0s 2ms/step - loss: 0.0023\n",
            "Epoch 198/250\n",
            "170/170 [==============================] - 0s 2ms/step - loss: 0.0021\n",
            "Epoch 199/250\n",
            "170/170 [==============================] - 0s 2ms/step - loss: 0.0022\n",
            "Epoch 200/250\n",
            "170/170 [==============================] - 0s 2ms/step - loss: 0.0025\n",
            "Epoch 201/250\n",
            "170/170 [==============================] - 0s 2ms/step - loss: 0.0019\n",
            "Epoch 202/250\n",
            "170/170 [==============================] - 0s 2ms/step - loss: 0.0022\n",
            "Epoch 203/250\n",
            "170/170 [==============================] - 0s 2ms/step - loss: 0.0027\n",
            "Epoch 204/250\n",
            "170/170 [==============================] - 0s 2ms/step - loss: 0.0028\n",
            "Epoch 205/250\n",
            "170/170 [==============================] - 0s 2ms/step - loss: 0.0021\n",
            "Epoch 206/250\n",
            "170/170 [==============================] - 0s 2ms/step - loss: 0.0015\n",
            "Epoch 207/250\n",
            "170/170 [==============================] - 0s 2ms/step - loss: 0.0029\n",
            "Epoch 208/250\n",
            "170/170 [==============================] - 0s 2ms/step - loss: 0.0017\n",
            "Epoch 209/250\n",
            "170/170 [==============================] - 0s 2ms/step - loss: 0.0027\n",
            "Epoch 210/250\n",
            "170/170 [==============================] - 0s 2ms/step - loss: 0.0016\n",
            "Epoch 211/250\n",
            "170/170 [==============================] - 0s 2ms/step - loss: 0.0016\n",
            "Epoch 212/250\n",
            "170/170 [==============================] - 0s 2ms/step - loss: 0.0022\n",
            "Epoch 213/250\n",
            "170/170 [==============================] - 0s 2ms/step - loss: 0.0022\n",
            "Epoch 214/250\n",
            "170/170 [==============================] - 0s 2ms/step - loss: 0.0019\n",
            "Epoch 215/250\n",
            "170/170 [==============================] - 0s 2ms/step - loss: 0.0022\n",
            "Epoch 216/250\n",
            "170/170 [==============================] - 0s 1ms/step - loss: 0.0025\n",
            "Epoch 217/250\n",
            "170/170 [==============================] - 0s 2ms/step - loss: 0.0018\n",
            "Epoch 218/250\n",
            "170/170 [==============================] - 0s 2ms/step - loss: 0.0024\n",
            "Epoch 219/250\n",
            "170/170 [==============================] - 0s 2ms/step - loss: 0.0013\n",
            "Epoch 220/250\n",
            "170/170 [==============================] - 0s 2ms/step - loss: 0.0020\n",
            "Epoch 221/250\n",
            "170/170 [==============================] - 0s 2ms/step - loss: 0.0034\n",
            "Epoch 222/250\n",
            "170/170 [==============================] - 0s 2ms/step - loss: 0.0014\n",
            "Epoch 223/250\n",
            "170/170 [==============================] - 0s 2ms/step - loss: 0.0021\n",
            "Epoch 224/250\n",
            "170/170 [==============================] - 0s 2ms/step - loss: 0.0016\n",
            "Epoch 225/250\n",
            "170/170 [==============================] - 0s 2ms/step - loss: 0.0027\n",
            "Epoch 226/250\n",
            "170/170 [==============================] - 0s 2ms/step - loss: 0.0018\n",
            "Epoch 227/250\n",
            "170/170 [==============================] - 0s 2ms/step - loss: 0.0022\n",
            "Epoch 228/250\n",
            "170/170 [==============================] - 0s 2ms/step - loss: 0.0021\n",
            "Epoch 229/250\n",
            "170/170 [==============================] - 0s 2ms/step - loss: 0.0018\n",
            "Epoch 230/250\n",
            "170/170 [==============================] - 0s 2ms/step - loss: 0.0019\n",
            "Epoch 231/250\n",
            "170/170 [==============================] - 0s 2ms/step - loss: 0.0023\n",
            "Epoch 232/250\n",
            "170/170 [==============================] - 0s 2ms/step - loss: 0.0022\n",
            "Epoch 233/250\n",
            "170/170 [==============================] - 0s 2ms/step - loss: 0.0020\n",
            "Epoch 234/250\n",
            "170/170 [==============================] - 0s 2ms/step - loss: 0.0018\n",
            "Epoch 235/250\n",
            "170/170 [==============================] - 0s 2ms/step - loss: 0.0016\n",
            "Epoch 236/250\n",
            "170/170 [==============================] - 0s 2ms/step - loss: 0.0022\n",
            "Epoch 237/250\n",
            "170/170 [==============================] - 0s 2ms/step - loss: 0.0020\n",
            "Epoch 238/250\n",
            "170/170 [==============================] - 0s 2ms/step - loss: 0.0031\n",
            "Epoch 239/250\n",
            "170/170 [==============================] - 0s 2ms/step - loss: 0.0021\n",
            "Epoch 240/250\n",
            "170/170 [==============================] - 0s 2ms/step - loss: 0.0018\n",
            "Epoch 241/250\n",
            "170/170 [==============================] - 0s 2ms/step - loss: 0.0026\n",
            "Epoch 242/250\n",
            "170/170 [==============================] - 0s 2ms/step - loss: 0.0019\n",
            "Epoch 243/250\n",
            "170/170 [==============================] - 0s 2ms/step - loss: 0.0018\n",
            "Epoch 244/250\n",
            "170/170 [==============================] - 0s 2ms/step - loss: 0.0028\n",
            "Epoch 245/250\n",
            "170/170 [==============================] - 0s 2ms/step - loss: 0.0016\n",
            "Epoch 246/250\n",
            "170/170 [==============================] - 0s 2ms/step - loss: 0.0026\n",
            "Epoch 247/250\n",
            "170/170 [==============================] - 0s 2ms/step - loss: 0.0023\n",
            "Epoch 248/250\n",
            "170/170 [==============================] - 0s 2ms/step - loss: 0.0016\n",
            "Epoch 249/250\n",
            "170/170 [==============================] - 0s 2ms/step - loss: 0.0025\n",
            "Epoch 250/250\n",
            "170/170 [==============================] - 0s 2ms/step - loss: 0.0028\n"
          ],
          "name": "stdout"
        },
        {
          "output_type": "execute_result",
          "data": {
            "text/plain": [
              "<tensorflow.python.keras.callbacks.History at 0x7f4999960d50>"
            ]
          },
          "metadata": {
            "tags": []
          },
          "execution_count": 242
        }
      ]
    },
    {
      "cell_type": "code",
      "metadata": {
        "id": "OXn8UOd3hmPQ"
      },
      "source": [
        "# make predictions\n",
        "train_predict = model.predict(xtrain)\n",
        "test_predict = model.predict(xtest)\n",
        "# invert predictions\n",
        "train_predict = scaler.inverse_transform(train_predict)\n",
        "ytrain = scaler.inverse_transform([ytrain])\n",
        "test_predict = scaler.inverse_transform(test_predict)\n",
        "ytest = scaler.inverse_transform([ytest])"
      ],
      "execution_count": null,
      "outputs": []
    },
    {
      "cell_type": "code",
      "metadata": {
        "colab": {
          "base_uri": "https://localhost:8080/",
          "height": 265
        },
        "id": "QLtxb2DmhsqP",
        "outputId": "f7b15a44-66e6-4d5a-f596-6ba429dd9bcb"
      },
      "source": [
        "# shift train predictions for plotting\n",
        "train_predict_plot = np.empty_like(closing_data)\n",
        "train_predict_plot[:, :] = np.nan\n",
        "train_predict_plot[look_back:len(train_predict)+look_back, :] = train_predict\n",
        "# shift test predictions for plotting\n",
        "test_predict_plot = np.empty_like(closing_data)\n",
        "test_predict_plot[:, :] = np.nan\n",
        "test_predict_plot[len(train_predict)+(look_back*2)+1:len(closing_data)-1, :] = test_predict\n",
        "# plot baseline and predictions\n",
        "plt.plot(scaler.inverse_transform(closing_data),label='actual data')\n",
        "plt.plot(train_predict_plot,color='red',label='train data')\n",
        "plt.plot(test_predict_plot,color='green',label='predict values')\n",
        "plt.legend()\n",
        "plt.show()"
      ],
      "execution_count": 286,
      "outputs": [
        {
          "output_type": "display_data",
          "data": {
            "image/png": "[encoded data removed]",
            "text/plain": [
              "<Figure size 432x288 with 1 Axes>"
            ]
          },
          "metadata": {
            "tags": [],
            "needs_background": "light"
          }
        }
      ]
    },
    {
      "cell_type": "code",
      "metadata": {
        "colab": {
          "base_uri": "https://localhost:8080/"
        },
        "id": "3GbF5IPLhu_m",
        "outputId": "9ab5e94c-9a80-416a-9c50-4845c9aa3211"
      },
      "source": [
        "train_score = math.sqrt(mean_squared_error(ytrain[0], train_predict[:,0]))\n",
        "print(\"Root mean square error (train score) = \",train_score)\n",
        "test_score = math.sqrt(mean_squared_error(ytest[0], test_predict[:,0]))\n",
        "print(\"Root mean square error (test score) = \",test_score)"
      ],
      "execution_count": null,
      "outputs": [
        {
          "output_type": "stream",
          "text": [
            "Root mean square error (train score) =  708.944067643075\n",
            "Root mean square error (test score) =  413.53234175151204\n"
          ],
          "name": "stdout"
        }
      ]
    },
    {
      "cell_type": "markdown",
      "metadata": {
        "id": "B8EkUxZyoM7m"
      },
      "source": [
        "**Creating a Hybrid Model**"
      ]
    },
    {
      "cell_type": "code",
      "metadata": {
        "id": "nA1g4hrp5KUb"
      },
      "source": [
        "stock_df.reset_index(inplace = True, drop = True)\n",
        "news_df_final=news_df_final.rename(columns={'date':'Date'})\n",
        "X = pd.merge(news_df_final, stock_df[['Date','Close']], on=\"Date\")\n",
        "X = X.drop(['Date'],axis=1)"
      ],
      "execution_count": 302,
      "outputs": []
    },
    {
      "cell_type": "code",
      "metadata": {
        "colab": {
          "base_uri": "https://localhost:8080/",
          "height": 402
        },
        "id": "GTxgdfbY7NL4",
        "outputId": "817259d5-86c3-448c-9728-6c91731bac5f"
      },
      "source": [
        "X"
      ],
      "execution_count": 307,
      "outputs": [
        {
          "output_type": "execute_result",
          "data": {
            "text/html": [
              "<div>\n",
              "<style scoped>\n",
              "    .dataframe tbody tr th:only-of-type {\n",
              "        vertical-align: middle;\n",
              "    }\n",
              "\n",
              "    .dataframe tbody tr th {\n",
              "        vertical-align: top;\n",
              "    }\n",
              "\n",
              "    .dataframe thead th {\n",
              "        text-align: right;\n",
              "    }\n",
              "</style>\n",
              "<table border=\"1\" class=\"dataframe\">\n",
              "  <thead>\n",
              "    <tr style=\"text-align: right;\">\n",
              "      <th></th>\n",
              "      <th>polarity_mean</th>\n",
              "      <th>subjectivity_mean</th>\n",
              "      <th>Compound</th>\n",
              "      <th>Negative</th>\n",
              "      <th>Neutral</th>\n",
              "      <th>Positive</th>\n",
              "      <th>Close</th>\n",
              "    </tr>\n",
              "  </thead>\n",
              "  <tbody>\n",
              "    <tr>\n",
              "      <th>0</th>\n",
              "      <td>0.030465</td>\n",
              "      <td>0.195995</td>\n",
              "      <td>-0.064499</td>\n",
              "      <td>0.116486</td>\n",
              "      <td>0.811782</td>\n",
              "      <td>0.071736</td>\n",
              "      <td>39052.05859</td>\n",
              "    </tr>\n",
              "    <tr>\n",
              "      <th>1</th>\n",
              "      <td>0.018567</td>\n",
              "      <td>0.198447</td>\n",
              "      <td>-0.040108</td>\n",
              "      <td>0.108986</td>\n",
              "      <td>0.807801</td>\n",
              "      <td>0.083217</td>\n",
              "      <td>39298.37891</td>\n",
              "    </tr>\n",
              "    <tr>\n",
              "      <th>2</th>\n",
              "      <td>0.016961</td>\n",
              "      <td>0.201205</td>\n",
              "      <td>-0.074537</td>\n",
              "      <td>0.121936</td>\n",
              "      <td>0.809279</td>\n",
              "      <td>0.068790</td>\n",
              "      <td>38963.83984</td>\n",
              "    </tr>\n",
              "    <tr>\n",
              "      <th>3</th>\n",
              "      <td>0.023304</td>\n",
              "      <td>0.189130</td>\n",
              "      <td>-0.055233</td>\n",
              "      <td>0.111150</td>\n",
              "      <td>0.813864</td>\n",
              "      <td>0.074982</td>\n",
              "      <td>39058.82813</td>\n",
              "    </tr>\n",
              "    <tr>\n",
              "      <th>4</th>\n",
              "      <td>0.032672</td>\n",
              "      <td>0.197599</td>\n",
              "      <td>-0.050391</td>\n",
              "      <td>0.103538</td>\n",
              "      <td>0.828697</td>\n",
              "      <td>0.067763</td>\n",
              "      <td>39020.39063</td>\n",
              "    </tr>\n",
              "    <tr>\n",
              "      <th>...</th>\n",
              "      <td>...</td>\n",
              "      <td>...</td>\n",
              "      <td>...</td>\n",
              "      <td>...</td>\n",
              "      <td>...</td>\n",
              "      <td>...</td>\n",
              "      <td>...</td>\n",
              "    </tr>\n",
              "    <tr>\n",
              "      <th>243</th>\n",
              "      <td>0.025472</td>\n",
              "      <td>0.159748</td>\n",
              "      <td>-0.104520</td>\n",
              "      <td>0.124778</td>\n",
              "      <td>0.821106</td>\n",
              "      <td>0.054116</td>\n",
              "      <td>40593.80078</td>\n",
              "    </tr>\n",
              "    <tr>\n",
              "      <th>244</th>\n",
              "      <td>0.026397</td>\n",
              "      <td>0.152828</td>\n",
              "      <td>-0.095505</td>\n",
              "      <td>0.113124</td>\n",
              "      <td>0.836529</td>\n",
              "      <td>0.050353</td>\n",
              "      <td>40625.51172</td>\n",
              "    </tr>\n",
              "    <tr>\n",
              "      <th>245</th>\n",
              "      <td>0.005641</td>\n",
              "      <td>0.156015</td>\n",
              "      <td>-0.075716</td>\n",
              "      <td>0.111814</td>\n",
              "      <td>0.821178</td>\n",
              "      <td>0.067020</td>\n",
              "      <td>40794.73828</td>\n",
              "    </tr>\n",
              "    <tr>\n",
              "      <th>246</th>\n",
              "      <td>0.009740</td>\n",
              "      <td>0.152804</td>\n",
              "      <td>-0.074628</td>\n",
              "      <td>0.104132</td>\n",
              "      <td>0.841110</td>\n",
              "      <td>0.054758</td>\n",
              "      <td>39728.41016</td>\n",
              "    </tr>\n",
              "    <tr>\n",
              "      <th>247</th>\n",
              "      <td>0.022200</td>\n",
              "      <td>0.163215</td>\n",
              "      <td>-0.058176</td>\n",
              "      <td>0.104233</td>\n",
              "      <td>0.831167</td>\n",
              "      <td>0.064608</td>\n",
              "      <td>39982.98047</td>\n",
              "    </tr>\n",
              "  </tbody>\n",
              "</table>\n",
              "<p>248 rows × 7 columns</p>\n",
              "</div>"
            ],
            "text/plain": [
              "     polarity_mean  subjectivity_mean  ...  Positive        Close\n",
              "0         0.030465           0.195995  ...  0.071736  39052.05859\n",
              "1         0.018567           0.198447  ...  0.083217  39298.37891\n",
              "2         0.016961           0.201205  ...  0.068790  38963.83984\n",
              "3         0.023304           0.189130  ...  0.074982  39058.82813\n",
              "4         0.032672           0.197599  ...  0.067763  39020.39063\n",
              "..             ...                ...  ...       ...          ...\n",
              "243       0.025472           0.159748  ...  0.054116  40593.80078\n",
              "244       0.026397           0.152828  ...  0.050353  40625.51172\n",
              "245       0.005641           0.156015  ...  0.067020  40794.73828\n",
              "246       0.009740           0.152804  ...  0.054758  39728.41016\n",
              "247       0.022200           0.163215  ...  0.064608  39982.98047\n",
              "\n",
              "[248 rows x 7 columns]"
            ]
          },
          "metadata": {
            "tags": []
          },
          "execution_count": 307
        }
      ]
    },
    {
      "cell_type": "code",
      "metadata": {
        "id": "mfV_lTlkj4Jt"
      },
      "source": [
        "y = X['Close']\n",
        "y.shape\n",
        "X = X.drop(['Close'],axis=1)"
      ],
      "execution_count": 308,
      "outputs": []
    },
    {
      "cell_type": "code",
      "metadata": {
        "colab": {
          "base_uri": "https://localhost:8080/"
        },
        "id": "ViVHrA4hkNNE",
        "outputId": "84eb07f4-0a5c-4d79-bc70-a75124b7a814"
      },
      "source": [
        "from sklearn.model_selection import train_test_split\n",
        "x_train, x_test, y_train, y_test = train_test_split(X, y, test_size=0.2, random_state = 0)\n",
        "x_train.shape"
      ],
      "execution_count": 309,
      "outputs": [
        {
          "output_type": "execute_result",
          "data": {
            "text/plain": [
              "(198, 6)"
            ]
          },
          "metadata": {
            "tags": []
          },
          "execution_count": 309
        }
      ]
    },
    {
      "cell_type": "code",
      "metadata": {
        "id": "POZbwDvIkFU5"
      },
      "source": [
        "rf = RandomForestRegressor()\n",
        "rf.fit(x_train, y_train)\n",
        "prediction=rf.predict(x_test)"
      ],
      "execution_count": 310,
      "outputs": []
    },
    {
      "cell_type": "code",
      "metadata": {
        "colab": {
          "base_uri": "https://localhost:8080/"
        },
        "id": "_z10qchlkmcw",
        "outputId": "c9016751-2d1b-4772-c033-54bd710546de"
      },
      "source": [
        "for i in range(10):\n",
        "  print(\"Actual Value: \"+str(y_test.iloc[i])+\" Predicted Value: \"+str(prediction[i]))\n",
        "print(\"Mean Absolute error (Random Forest Regressor) =\",mean_absolute_error(prediction,y_test))"
      ],
      "execution_count": 320,
      "outputs": [
        {
          "output_type": "stream",
          "text": [
            "Actual Value: 39982.98047 Predicted Value: 37165.99011889998\n",
            "Actual Value: 35171.26953 Predicted Value: 38706.81074209997\n",
            "Actual Value: 41141.85156 Predicted Value: 41312.75539079998\n",
            "Actual Value: 33825.53125 Predicted Value: 34200.51406249999\n",
            "Actual Value: 30609.30078 Predicted Value: 35004.211856799986\n",
            "Actual Value: 40789.37891 Predicted Value: 40540.730625100005\n",
            "Actual Value: 41461.26172 Predicted Value: 38572.8482415\n",
            "Actual Value: 33228.80078 Predicted Value: 37801.83822289997\n",
            "Actual Value: 38357.17969 Predicted Value: 37354.432716499985\n",
            "Actual Value: 39467.30859 Predicted Value: 36316.988321499986\n",
            "Mean Absolute error (Random Forest Regressor) = 2235.186188693998\n"
          ],
          "name": "stdout"
        }
      ]
    },
    {
      "cell_type": "code",
      "metadata": {
        "id": "t9eIdalUkv71"
      },
      "source": [
        ""
      ],
      "execution_count": null,
      "outputs": []
    }
  ]
}